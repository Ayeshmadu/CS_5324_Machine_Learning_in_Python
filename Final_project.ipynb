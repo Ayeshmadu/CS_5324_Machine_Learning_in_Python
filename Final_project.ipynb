{
  "nbformat": 4,
  "nbformat_minor": 0,
  "metadata": {
    "colab": {
      "provenance": []
    },
    "kernelspec": {
      "name": "python3",
      "display_name": "Python 3"
    },
    "language_info": {
      "name": "python"
    },
    "accelerator": "GPU"
  },
  "cells": [
    {
      "cell_type": "markdown",
      "source": [
        "# Cleaning of the Dataset\n"
      ],
      "metadata": {
        "id": "O8dK98wTB_se"
      }
    },
    {
      "cell_type": "code",
      "execution_count": null,
      "metadata": {
        "id": "_T7Os26Xlynt"
      },
      "outputs": [],
      "source": [
        "import pandas as pd\n",
        "import numpy as np\n",
        "import seaborn as sns\n",
        "import matplotlib.pyplot as mlt\n",
        "import os\n",
        "import array as arr\n",
        "#import matplotlib as mlt\n",
        "%matplotlib inline"
      ]
    },
    {
      "cell_type": "code",
      "source": [
        "df = pd.read_csv('EDHB.csv')\n",
        "df.drop([\"Unnamed: 0\", \"Unnamed: 0.1\", \"S/No\", \"atomIDs\"], axis=1, inplace=True)\n",
        "df.head(10)"
      ],
      "metadata": {
        "colab": {
          "base_uri": "https://localhost:8080/",
          "height": 363
        },
        "id": "3fkdO4iFQNqG",
        "outputId": "4b8377d6-62e5-4328-bd35-0a48d2ad20d2"
      },
      "execution_count": null,
      "outputs": [
        {
          "output_type": "execute_result",
          "data": {
            "text/plain": [
              "      Bond  HB length  HB Angle Intra-HB Bifurcation type Donor Acceptor  \\\n",
              "0  N-H...O     1.8059   164.560     None            0-0-0   ALA      UNL   \n",
              "1  N-H...O     2.0383   157.310     None            0-0-0   GLY      UNL   \n",
              "2  N-H...O     2.2594   146.840     None            0-0-0   SER      UNL   \n",
              "3  N-H...N     2.2454   111.530     I(5)            0-0-0   UNL      UNL   \n",
              "4  N-H...F     1.9852    92.543     I(7)            0-0-1   UNL      UNL   \n",
              "5  N-H...O     2.0767   160.910     None            0-0-0   UNL      GLU   \n",
              "6  N-H...O     1.9601   169.290     None            0-0-0   UNL      GLU   \n",
              "7  N-H...N     2.0765   176.890     None            0-0-0   CYS      UNL   \n",
              "8  N-H...O     2.1522   100.870     I(5)            0-0-0   UNL      UNL   \n",
              "9  O-H...O     1.9150   127.320     I(6)            0-0-0   UNL      UNL   \n",
              "\n",
              "    pdb                                             smiles  \n",
              "0  2fq6           Nc1nc(N)c2c(CSc3ccc(Cl)c(Cl)c3)c[nH]c2n1  \n",
              "1  2fq6                  NC(=S)\\N=N\\c1c(O)[nH]c2ccc(I)cc12  \n",
              "2  2fq6  [Cl-].C[N+](C)(CCCN1c2ccccc2Sc3ccc(Cl)cc13)Cc4...  \n",
              "3  2fq6        COc1cc(OC)cc(c1)N(C)Cc2c[nH]c3nc(N)nc(O)c23  \n",
              "4  2fq6                    COc1cc(Cc2cnc(N)nc2N)cc(OC)c1OC  \n",
              "5  2wmv     Cc1c(CN(C=O)c2ccc(Cl)c(Cl)c2)cnc3nc(N)nc(N)c13  \n",
              "6  2wmv                  Cc1ccc2[nH]c(O)c(\\N=N\\C(=N)S)c2c1  \n",
              "7  2wmv              CN(Cc1ccc2nc(N)nc(N)c2n1)c3cccc(Cl)c3  \n",
              "8  2wmv                CCCc1cc(O)c(Oc2ccc(cc2Cl)C#N)c(O)c1  \n",
              "9  3r69                       Nc1nc(N)c2CC(Cc3cccs3)CCc2n1  "
            ],
            "text/html": [
              "\n",
              "  <div id=\"df-eb6e0554-47ea-459a-939f-83f018c9524e\">\n",
              "    <div class=\"colab-df-container\">\n",
              "      <div>\n",
              "<style scoped>\n",
              "    .dataframe tbody tr th:only-of-type {\n",
              "        vertical-align: middle;\n",
              "    }\n",
              "\n",
              "    .dataframe tbody tr th {\n",
              "        vertical-align: top;\n",
              "    }\n",
              "\n",
              "    .dataframe thead th {\n",
              "        text-align: right;\n",
              "    }\n",
              "</style>\n",
              "<table border=\"1\" class=\"dataframe\">\n",
              "  <thead>\n",
              "    <tr style=\"text-align: right;\">\n",
              "      <th></th>\n",
              "      <th>Bond</th>\n",
              "      <th>HB length</th>\n",
              "      <th>HB Angle</th>\n",
              "      <th>Intra-HB</th>\n",
              "      <th>Bifurcation type</th>\n",
              "      <th>Donor</th>\n",
              "      <th>Acceptor</th>\n",
              "      <th>pdb</th>\n",
              "      <th>smiles</th>\n",
              "    </tr>\n",
              "  </thead>\n",
              "  <tbody>\n",
              "    <tr>\n",
              "      <th>0</th>\n",
              "      <td>N-H...O</td>\n",
              "      <td>1.8059</td>\n",
              "      <td>164.560</td>\n",
              "      <td>None</td>\n",
              "      <td>0-0-0</td>\n",
              "      <td>ALA</td>\n",
              "      <td>UNL</td>\n",
              "      <td>2fq6</td>\n",
              "      <td>Nc1nc(N)c2c(CSc3ccc(Cl)c(Cl)c3)c[nH]c2n1</td>\n",
              "    </tr>\n",
              "    <tr>\n",
              "      <th>1</th>\n",
              "      <td>N-H...O</td>\n",
              "      <td>2.0383</td>\n",
              "      <td>157.310</td>\n",
              "      <td>None</td>\n",
              "      <td>0-0-0</td>\n",
              "      <td>GLY</td>\n",
              "      <td>UNL</td>\n",
              "      <td>2fq6</td>\n",
              "      <td>NC(=S)\\N=N\\c1c(O)[nH]c2ccc(I)cc12</td>\n",
              "    </tr>\n",
              "    <tr>\n",
              "      <th>2</th>\n",
              "      <td>N-H...O</td>\n",
              "      <td>2.2594</td>\n",
              "      <td>146.840</td>\n",
              "      <td>None</td>\n",
              "      <td>0-0-0</td>\n",
              "      <td>SER</td>\n",
              "      <td>UNL</td>\n",
              "      <td>2fq6</td>\n",
              "      <td>[Cl-].C[N+](C)(CCCN1c2ccccc2Sc3ccc(Cl)cc13)Cc4...</td>\n",
              "    </tr>\n",
              "    <tr>\n",
              "      <th>3</th>\n",
              "      <td>N-H...N</td>\n",
              "      <td>2.2454</td>\n",
              "      <td>111.530</td>\n",
              "      <td>I(5)</td>\n",
              "      <td>0-0-0</td>\n",
              "      <td>UNL</td>\n",
              "      <td>UNL</td>\n",
              "      <td>2fq6</td>\n",
              "      <td>COc1cc(OC)cc(c1)N(C)Cc2c[nH]c3nc(N)nc(O)c23</td>\n",
              "    </tr>\n",
              "    <tr>\n",
              "      <th>4</th>\n",
              "      <td>N-H...F</td>\n",
              "      <td>1.9852</td>\n",
              "      <td>92.543</td>\n",
              "      <td>I(7)</td>\n",
              "      <td>0-0-1</td>\n",
              "      <td>UNL</td>\n",
              "      <td>UNL</td>\n",
              "      <td>2fq6</td>\n",
              "      <td>COc1cc(Cc2cnc(N)nc2N)cc(OC)c1OC</td>\n",
              "    </tr>\n",
              "    <tr>\n",
              "      <th>5</th>\n",
              "      <td>N-H...O</td>\n",
              "      <td>2.0767</td>\n",
              "      <td>160.910</td>\n",
              "      <td>None</td>\n",
              "      <td>0-0-0</td>\n",
              "      <td>UNL</td>\n",
              "      <td>GLU</td>\n",
              "      <td>2wmv</td>\n",
              "      <td>Cc1c(CN(C=O)c2ccc(Cl)c(Cl)c2)cnc3nc(N)nc(N)c13</td>\n",
              "    </tr>\n",
              "    <tr>\n",
              "      <th>6</th>\n",
              "      <td>N-H...O</td>\n",
              "      <td>1.9601</td>\n",
              "      <td>169.290</td>\n",
              "      <td>None</td>\n",
              "      <td>0-0-0</td>\n",
              "      <td>UNL</td>\n",
              "      <td>GLU</td>\n",
              "      <td>2wmv</td>\n",
              "      <td>Cc1ccc2[nH]c(O)c(\\N=N\\C(=N)S)c2c1</td>\n",
              "    </tr>\n",
              "    <tr>\n",
              "      <th>7</th>\n",
              "      <td>N-H...N</td>\n",
              "      <td>2.0765</td>\n",
              "      <td>176.890</td>\n",
              "      <td>None</td>\n",
              "      <td>0-0-0</td>\n",
              "      <td>CYS</td>\n",
              "      <td>UNL</td>\n",
              "      <td>2wmv</td>\n",
              "      <td>CN(Cc1ccc2nc(N)nc(N)c2n1)c3cccc(Cl)c3</td>\n",
              "    </tr>\n",
              "    <tr>\n",
              "      <th>8</th>\n",
              "      <td>N-H...O</td>\n",
              "      <td>2.1522</td>\n",
              "      <td>100.870</td>\n",
              "      <td>I(5)</td>\n",
              "      <td>0-0-0</td>\n",
              "      <td>UNL</td>\n",
              "      <td>UNL</td>\n",
              "      <td>2wmv</td>\n",
              "      <td>CCCc1cc(O)c(Oc2ccc(cc2Cl)C#N)c(O)c1</td>\n",
              "    </tr>\n",
              "    <tr>\n",
              "      <th>9</th>\n",
              "      <td>O-H...O</td>\n",
              "      <td>1.9150</td>\n",
              "      <td>127.320</td>\n",
              "      <td>I(6)</td>\n",
              "      <td>0-0-0</td>\n",
              "      <td>UNL</td>\n",
              "      <td>UNL</td>\n",
              "      <td>3r69</td>\n",
              "      <td>Nc1nc(N)c2CC(Cc3cccs3)CCc2n1</td>\n",
              "    </tr>\n",
              "  </tbody>\n",
              "</table>\n",
              "</div>\n",
              "      <button class=\"colab-df-convert\" onclick=\"convertToInteractive('df-eb6e0554-47ea-459a-939f-83f018c9524e')\"\n",
              "              title=\"Convert this dataframe to an interactive table.\"\n",
              "              style=\"display:none;\">\n",
              "        \n",
              "  <svg xmlns=\"http://www.w3.org/2000/svg\" height=\"24px\"viewBox=\"0 0 24 24\"\n",
              "       width=\"24px\">\n",
              "    <path d=\"M0 0h24v24H0V0z\" fill=\"none\"/>\n",
              "    <path d=\"M18.56 5.44l.94 2.06.94-2.06 2.06-.94-2.06-.94-.94-2.06-.94 2.06-2.06.94zm-11 1L8.5 8.5l.94-2.06 2.06-.94-2.06-.94L8.5 2.5l-.94 2.06-2.06.94zm10 10l.94 2.06.94-2.06 2.06-.94-2.06-.94-.94-2.06-.94 2.06-2.06.94z\"/><path d=\"M17.41 7.96l-1.37-1.37c-.4-.4-.92-.59-1.43-.59-.52 0-1.04.2-1.43.59L10.3 9.45l-7.72 7.72c-.78.78-.78 2.05 0 2.83L4 21.41c.39.39.9.59 1.41.59.51 0 1.02-.2 1.41-.59l7.78-7.78 2.81-2.81c.8-.78.8-2.07 0-2.86zM5.41 20L4 18.59l7.72-7.72 1.47 1.35L5.41 20z\"/>\n",
              "  </svg>\n",
              "      </button>\n",
              "      \n",
              "  <style>\n",
              "    .colab-df-container {\n",
              "      display:flex;\n",
              "      flex-wrap:wrap;\n",
              "      gap: 12px;\n",
              "    }\n",
              "\n",
              "    .colab-df-convert {\n",
              "      background-color: #E8F0FE;\n",
              "      border: none;\n",
              "      border-radius: 50%;\n",
              "      cursor: pointer;\n",
              "      display: none;\n",
              "      fill: #1967D2;\n",
              "      height: 32px;\n",
              "      padding: 0 0 0 0;\n",
              "      width: 32px;\n",
              "    }\n",
              "\n",
              "    .colab-df-convert:hover {\n",
              "      background-color: #E2EBFA;\n",
              "      box-shadow: 0px 1px 2px rgba(60, 64, 67, 0.3), 0px 1px 3px 1px rgba(60, 64, 67, 0.15);\n",
              "      fill: #174EA6;\n",
              "    }\n",
              "\n",
              "    [theme=dark] .colab-df-convert {\n",
              "      background-color: #3B4455;\n",
              "      fill: #D2E3FC;\n",
              "    }\n",
              "\n",
              "    [theme=dark] .colab-df-convert:hover {\n",
              "      background-color: #434B5C;\n",
              "      box-shadow: 0px 1px 3px 1px rgba(0, 0, 0, 0.15);\n",
              "      filter: drop-shadow(0px 1px 2px rgba(0, 0, 0, 0.3));\n",
              "      fill: #FFFFFF;\n",
              "    }\n",
              "  </style>\n",
              "\n",
              "      <script>\n",
              "        const buttonEl =\n",
              "          document.querySelector('#df-eb6e0554-47ea-459a-939f-83f018c9524e button.colab-df-convert');\n",
              "        buttonEl.style.display =\n",
              "          google.colab.kernel.accessAllowed ? 'block' : 'none';\n",
              "\n",
              "        async function convertToInteractive(key) {\n",
              "          const element = document.querySelector('#df-eb6e0554-47ea-459a-939f-83f018c9524e');\n",
              "          const dataTable =\n",
              "            await google.colab.kernel.invokeFunction('convertToInteractive',\n",
              "                                                     [key], {});\n",
              "          if (!dataTable) return;\n",
              "\n",
              "          const docLinkHtml = 'Like what you see? Visit the ' +\n",
              "            '<a target=\"_blank\" href=https://colab.research.google.com/notebooks/data_table.ipynb>data table notebook</a>'\n",
              "            + ' to learn more about interactive tables.';\n",
              "          element.innerHTML = '';\n",
              "          dataTable['output_type'] = 'display_data';\n",
              "          await google.colab.output.renderOutput(dataTable, element);\n",
              "          const docLink = document.createElement('div');\n",
              "          docLink.innerHTML = docLinkHtml;\n",
              "          element.appendChild(docLink);\n",
              "        }\n",
              "      </script>\n",
              "    </div>\n",
              "  </div>\n",
              "  "
            ]
          },
          "metadata": {},
          "execution_count": 6
        }
      ]
    },
    {
      "cell_type": "code",
      "source": [
        "df.rename(columns={\"Bifurcation type\": \"Bifr\"},inplace=True) # just changed some names for my conveniet.\n",
        "df.rename(columns={\"HB length\": \"HB_length\"},inplace=True)\n",
        "df.rename(columns={\"HB Angle\": \"HB_Angle\"},inplace=True)\n",
        "df.rename(columns={\"Intra-HB\": \"Intra_HB\"},inplace=True)\n",
        "df.drop(\"pdb\", axis=1, inplace=True)"
      ],
      "metadata": {
        "id": "bdeUOKmKl_xI"
      },
      "execution_count": null,
      "outputs": []
    },
    {
      "cell_type": "code",
      "source": [
        "df"
      ],
      "metadata": {
        "colab": {
          "base_uri": "https://localhost:8080/",
          "height": 423
        },
        "id": "ab7JZEkonM01",
        "outputId": "ee77ae0d-1880-4ed1-cf25-9e19ae8a9b6b"
      },
      "execution_count": null,
      "outputs": [
        {
          "output_type": "execute_result",
          "data": {
            "text/plain": [
              "          Bond  HB_length  HB_Angle Intra_HB   Bifr Donor Acceptor  \\\n",
              "0      N-H...O     1.8059   164.560     None  0-0-0   ALA      UNL   \n",
              "1      N-H...O     2.0383   157.310     None  0-0-0   GLY      UNL   \n",
              "2      N-H...O     2.2594   146.840     None  0-0-0   SER      UNL   \n",
              "3      N-H...N     2.2454   111.530     I(5)  0-0-0   UNL      UNL   \n",
              "4      N-H...F     1.9852    92.543     I(7)  0-0-1   UNL      UNL   \n",
              "...        ...        ...       ...      ...    ...   ...      ...   \n",
              "21924  N-H...O     2.2950   110.480     None  0-0-0   UNL      ILE   \n",
              "21925  N-H...N     1.8873   144.040     None  0-0-0   ILE      UNL   \n",
              "21926  N-H...O     2.0385   169.720     None  0-0-0   UNL      GLN   \n",
              "21927  N-H...O     1.8461   171.300     None  0-0-0   GLN      UNL   \n",
              "21928  N-H...O     2.3831    98.225     I(5)  0-0-0   UNL      UNL   \n",
              "\n",
              "                                                  smiles  \n",
              "0               Nc1nc(N)c2c(CSc3ccc(Cl)c(Cl)c3)c[nH]c2n1  \n",
              "1                      NC(=S)\\N=N\\c1c(O)[nH]c2ccc(I)cc12  \n",
              "2      [Cl-].C[N+](C)(CCCN1c2ccccc2Sc3ccc(Cl)cc13)Cc4...  \n",
              "3            COc1cc(OC)cc(c1)N(C)Cc2c[nH]c3nc(N)nc(O)c23  \n",
              "4                        COc1cc(Cc2cnc(N)nc2N)cc(OC)c1OC  \n",
              "...                                                  ...  \n",
              "21924                      NC(Cc1ccccc1)P(=O)(O)NCC(=O)O  \n",
              "21925              Cl.CN(C)C1CC(c2ccc(Cl)cc2Cl)c3ccccc13  \n",
              "21926                  SCC(=O)NCCCCCC(=O)Nc1cccc2cccnc12  \n",
              "21927  Cc1cc(CNC(=O)c2cc(ncn2)C(=O)NCc3ccc(F)c(C)c3)c...  \n",
              "21928                                                NaN  \n",
              "\n",
              "[21929 rows x 8 columns]"
            ],
            "text/html": [
              "\n",
              "  <div id=\"df-4d19f53f-f932-414d-a7f1-336afb3ee1a3\">\n",
              "    <div class=\"colab-df-container\">\n",
              "      <div>\n",
              "<style scoped>\n",
              "    .dataframe tbody tr th:only-of-type {\n",
              "        vertical-align: middle;\n",
              "    }\n",
              "\n",
              "    .dataframe tbody tr th {\n",
              "        vertical-align: top;\n",
              "    }\n",
              "\n",
              "    .dataframe thead th {\n",
              "        text-align: right;\n",
              "    }\n",
              "</style>\n",
              "<table border=\"1\" class=\"dataframe\">\n",
              "  <thead>\n",
              "    <tr style=\"text-align: right;\">\n",
              "      <th></th>\n",
              "      <th>Bond</th>\n",
              "      <th>HB_length</th>\n",
              "      <th>HB_Angle</th>\n",
              "      <th>Intra_HB</th>\n",
              "      <th>Bifr</th>\n",
              "      <th>Donor</th>\n",
              "      <th>Acceptor</th>\n",
              "      <th>smiles</th>\n",
              "    </tr>\n",
              "  </thead>\n",
              "  <tbody>\n",
              "    <tr>\n",
              "      <th>0</th>\n",
              "      <td>N-H...O</td>\n",
              "      <td>1.8059</td>\n",
              "      <td>164.560</td>\n",
              "      <td>None</td>\n",
              "      <td>0-0-0</td>\n",
              "      <td>ALA</td>\n",
              "      <td>UNL</td>\n",
              "      <td>Nc1nc(N)c2c(CSc3ccc(Cl)c(Cl)c3)c[nH]c2n1</td>\n",
              "    </tr>\n",
              "    <tr>\n",
              "      <th>1</th>\n",
              "      <td>N-H...O</td>\n",
              "      <td>2.0383</td>\n",
              "      <td>157.310</td>\n",
              "      <td>None</td>\n",
              "      <td>0-0-0</td>\n",
              "      <td>GLY</td>\n",
              "      <td>UNL</td>\n",
              "      <td>NC(=S)\\N=N\\c1c(O)[nH]c2ccc(I)cc12</td>\n",
              "    </tr>\n",
              "    <tr>\n",
              "      <th>2</th>\n",
              "      <td>N-H...O</td>\n",
              "      <td>2.2594</td>\n",
              "      <td>146.840</td>\n",
              "      <td>None</td>\n",
              "      <td>0-0-0</td>\n",
              "      <td>SER</td>\n",
              "      <td>UNL</td>\n",
              "      <td>[Cl-].C[N+](C)(CCCN1c2ccccc2Sc3ccc(Cl)cc13)Cc4...</td>\n",
              "    </tr>\n",
              "    <tr>\n",
              "      <th>3</th>\n",
              "      <td>N-H...N</td>\n",
              "      <td>2.2454</td>\n",
              "      <td>111.530</td>\n",
              "      <td>I(5)</td>\n",
              "      <td>0-0-0</td>\n",
              "      <td>UNL</td>\n",
              "      <td>UNL</td>\n",
              "      <td>COc1cc(OC)cc(c1)N(C)Cc2c[nH]c3nc(N)nc(O)c23</td>\n",
              "    </tr>\n",
              "    <tr>\n",
              "      <th>4</th>\n",
              "      <td>N-H...F</td>\n",
              "      <td>1.9852</td>\n",
              "      <td>92.543</td>\n",
              "      <td>I(7)</td>\n",
              "      <td>0-0-1</td>\n",
              "      <td>UNL</td>\n",
              "      <td>UNL</td>\n",
              "      <td>COc1cc(Cc2cnc(N)nc2N)cc(OC)c1OC</td>\n",
              "    </tr>\n",
              "    <tr>\n",
              "      <th>...</th>\n",
              "      <td>...</td>\n",
              "      <td>...</td>\n",
              "      <td>...</td>\n",
              "      <td>...</td>\n",
              "      <td>...</td>\n",
              "      <td>...</td>\n",
              "      <td>...</td>\n",
              "      <td>...</td>\n",
              "    </tr>\n",
              "    <tr>\n",
              "      <th>21924</th>\n",
              "      <td>N-H...O</td>\n",
              "      <td>2.2950</td>\n",
              "      <td>110.480</td>\n",
              "      <td>None</td>\n",
              "      <td>0-0-0</td>\n",
              "      <td>UNL</td>\n",
              "      <td>ILE</td>\n",
              "      <td>NC(Cc1ccccc1)P(=O)(O)NCC(=O)O</td>\n",
              "    </tr>\n",
              "    <tr>\n",
              "      <th>21925</th>\n",
              "      <td>N-H...N</td>\n",
              "      <td>1.8873</td>\n",
              "      <td>144.040</td>\n",
              "      <td>None</td>\n",
              "      <td>0-0-0</td>\n",
              "      <td>ILE</td>\n",
              "      <td>UNL</td>\n",
              "      <td>Cl.CN(C)C1CC(c2ccc(Cl)cc2Cl)c3ccccc13</td>\n",
              "    </tr>\n",
              "    <tr>\n",
              "      <th>21926</th>\n",
              "      <td>N-H...O</td>\n",
              "      <td>2.0385</td>\n",
              "      <td>169.720</td>\n",
              "      <td>None</td>\n",
              "      <td>0-0-0</td>\n",
              "      <td>UNL</td>\n",
              "      <td>GLN</td>\n",
              "      <td>SCC(=O)NCCCCCC(=O)Nc1cccc2cccnc12</td>\n",
              "    </tr>\n",
              "    <tr>\n",
              "      <th>21927</th>\n",
              "      <td>N-H...O</td>\n",
              "      <td>1.8461</td>\n",
              "      <td>171.300</td>\n",
              "      <td>None</td>\n",
              "      <td>0-0-0</td>\n",
              "      <td>GLN</td>\n",
              "      <td>UNL</td>\n",
              "      <td>Cc1cc(CNC(=O)c2cc(ncn2)C(=O)NCc3ccc(F)c(C)c3)c...</td>\n",
              "    </tr>\n",
              "    <tr>\n",
              "      <th>21928</th>\n",
              "      <td>N-H...O</td>\n",
              "      <td>2.3831</td>\n",
              "      <td>98.225</td>\n",
              "      <td>I(5)</td>\n",
              "      <td>0-0-0</td>\n",
              "      <td>UNL</td>\n",
              "      <td>UNL</td>\n",
              "      <td>NaN</td>\n",
              "    </tr>\n",
              "  </tbody>\n",
              "</table>\n",
              "<p>21929 rows × 8 columns</p>\n",
              "</div>\n",
              "      <button class=\"colab-df-convert\" onclick=\"convertToInteractive('df-4d19f53f-f932-414d-a7f1-336afb3ee1a3')\"\n",
              "              title=\"Convert this dataframe to an interactive table.\"\n",
              "              style=\"display:none;\">\n",
              "        \n",
              "  <svg xmlns=\"http://www.w3.org/2000/svg\" height=\"24px\"viewBox=\"0 0 24 24\"\n",
              "       width=\"24px\">\n",
              "    <path d=\"M0 0h24v24H0V0z\" fill=\"none\"/>\n",
              "    <path d=\"M18.56 5.44l.94 2.06.94-2.06 2.06-.94-2.06-.94-.94-2.06-.94 2.06-2.06.94zm-11 1L8.5 8.5l.94-2.06 2.06-.94-2.06-.94L8.5 2.5l-.94 2.06-2.06.94zm10 10l.94 2.06.94-2.06 2.06-.94-2.06-.94-.94-2.06-.94 2.06-2.06.94z\"/><path d=\"M17.41 7.96l-1.37-1.37c-.4-.4-.92-.59-1.43-.59-.52 0-1.04.2-1.43.59L10.3 9.45l-7.72 7.72c-.78.78-.78 2.05 0 2.83L4 21.41c.39.39.9.59 1.41.59.51 0 1.02-.2 1.41-.59l7.78-7.78 2.81-2.81c.8-.78.8-2.07 0-2.86zM5.41 20L4 18.59l7.72-7.72 1.47 1.35L5.41 20z\"/>\n",
              "  </svg>\n",
              "      </button>\n",
              "      \n",
              "  <style>\n",
              "    .colab-df-container {\n",
              "      display:flex;\n",
              "      flex-wrap:wrap;\n",
              "      gap: 12px;\n",
              "    }\n",
              "\n",
              "    .colab-df-convert {\n",
              "      background-color: #E8F0FE;\n",
              "      border: none;\n",
              "      border-radius: 50%;\n",
              "      cursor: pointer;\n",
              "      display: none;\n",
              "      fill: #1967D2;\n",
              "      height: 32px;\n",
              "      padding: 0 0 0 0;\n",
              "      width: 32px;\n",
              "    }\n",
              "\n",
              "    .colab-df-convert:hover {\n",
              "      background-color: #E2EBFA;\n",
              "      box-shadow: 0px 1px 2px rgba(60, 64, 67, 0.3), 0px 1px 3px 1px rgba(60, 64, 67, 0.15);\n",
              "      fill: #174EA6;\n",
              "    }\n",
              "\n",
              "    [theme=dark] .colab-df-convert {\n",
              "      background-color: #3B4455;\n",
              "      fill: #D2E3FC;\n",
              "    }\n",
              "\n",
              "    [theme=dark] .colab-df-convert:hover {\n",
              "      background-color: #434B5C;\n",
              "      box-shadow: 0px 1px 3px 1px rgba(0, 0, 0, 0.15);\n",
              "      filter: drop-shadow(0px 1px 2px rgba(0, 0, 0, 0.3));\n",
              "      fill: #FFFFFF;\n",
              "    }\n",
              "  </style>\n",
              "\n",
              "      <script>\n",
              "        const buttonEl =\n",
              "          document.querySelector('#df-4d19f53f-f932-414d-a7f1-336afb3ee1a3 button.colab-df-convert');\n",
              "        buttonEl.style.display =\n",
              "          google.colab.kernel.accessAllowed ? 'block' : 'none';\n",
              "\n",
              "        async function convertToInteractive(key) {\n",
              "          const element = document.querySelector('#df-4d19f53f-f932-414d-a7f1-336afb3ee1a3');\n",
              "          const dataTable =\n",
              "            await google.colab.kernel.invokeFunction('convertToInteractive',\n",
              "                                                     [key], {});\n",
              "          if (!dataTable) return;\n",
              "\n",
              "          const docLinkHtml = 'Like what you see? Visit the ' +\n",
              "            '<a target=\"_blank\" href=https://colab.research.google.com/notebooks/data_table.ipynb>data table notebook</a>'\n",
              "            + ' to learn more about interactive tables.';\n",
              "          element.innerHTML = '';\n",
              "          dataTable['output_type'] = 'display_data';\n",
              "          await google.colab.output.renderOutput(dataTable, element);\n",
              "          const docLink = document.createElement('div');\n",
              "          docLink.innerHTML = docLinkHtml;\n",
              "          element.appendChild(docLink);\n",
              "        }\n",
              "      </script>\n",
              "    </div>\n",
              "  </div>\n",
              "  "
            ]
          },
          "metadata": {},
          "execution_count": 8
        }
      ]
    },
    {
      "cell_type": "code",
      "source": [
        "# I changed the NH-O hydrogen bond type as 1 and others as 0\n",
        "# then made a new column\n",
        "def get_HBType(HB):\n",
        "    if HB == \"N-H...O\":\n",
        "        HB_Type = 1\n",
        "    else:\n",
        "        HB_Type = 0\n",
        "    return HB_Type\n",
        "\n",
        "df[\"HB_Type\"] = df[\"Bond\"].apply(get_HBType) # adding the affinity column to the dataframe\n",
        "df.drop(\"Bond\", axis=1, inplace=True)\n",
        "df.head(10)\n"
      ],
      "metadata": {
        "colab": {
          "base_uri": "https://localhost:8080/",
          "height": 363
        },
        "id": "S-VL5Pig6U4L",
        "outputId": "61445947-68f8-463e-8dd7-56af0c0b9761"
      },
      "execution_count": null,
      "outputs": [
        {
          "output_type": "execute_result",
          "data": {
            "text/plain": [
              "   HB_length  HB_Angle Intra_HB   Bifr Donor Acceptor  \\\n",
              "0     1.8059   164.560     None  0-0-0   ALA      UNL   \n",
              "1     2.0383   157.310     None  0-0-0   GLY      UNL   \n",
              "2     2.2594   146.840     None  0-0-0   SER      UNL   \n",
              "3     2.2454   111.530     I(5)  0-0-0   UNL      UNL   \n",
              "4     1.9852    92.543     I(7)  0-0-1   UNL      UNL   \n",
              "5     2.0767   160.910     None  0-0-0   UNL      GLU   \n",
              "6     1.9601   169.290     None  0-0-0   UNL      GLU   \n",
              "7     2.0765   176.890     None  0-0-0   CYS      UNL   \n",
              "8     2.1522   100.870     I(5)  0-0-0   UNL      UNL   \n",
              "9     1.9150   127.320     I(6)  0-0-0   UNL      UNL   \n",
              "\n",
              "                                              smiles  HB_Type  \n",
              "0           Nc1nc(N)c2c(CSc3ccc(Cl)c(Cl)c3)c[nH]c2n1        1  \n",
              "1                  NC(=S)\\N=N\\c1c(O)[nH]c2ccc(I)cc12        1  \n",
              "2  [Cl-].C[N+](C)(CCCN1c2ccccc2Sc3ccc(Cl)cc13)Cc4...        1  \n",
              "3        COc1cc(OC)cc(c1)N(C)Cc2c[nH]c3nc(N)nc(O)c23        0  \n",
              "4                    COc1cc(Cc2cnc(N)nc2N)cc(OC)c1OC        0  \n",
              "5     Cc1c(CN(C=O)c2ccc(Cl)c(Cl)c2)cnc3nc(N)nc(N)c13        1  \n",
              "6                  Cc1ccc2[nH]c(O)c(\\N=N\\C(=N)S)c2c1        1  \n",
              "7              CN(Cc1ccc2nc(N)nc(N)c2n1)c3cccc(Cl)c3        0  \n",
              "8                CCCc1cc(O)c(Oc2ccc(cc2Cl)C#N)c(O)c1        1  \n",
              "9                       Nc1nc(N)c2CC(Cc3cccs3)CCc2n1        0  "
            ],
            "text/html": [
              "\n",
              "  <div id=\"df-0f056e7e-3416-462f-8db5-406f64bb7a0c\">\n",
              "    <div class=\"colab-df-container\">\n",
              "      <div>\n",
              "<style scoped>\n",
              "    .dataframe tbody tr th:only-of-type {\n",
              "        vertical-align: middle;\n",
              "    }\n",
              "\n",
              "    .dataframe tbody tr th {\n",
              "        vertical-align: top;\n",
              "    }\n",
              "\n",
              "    .dataframe thead th {\n",
              "        text-align: right;\n",
              "    }\n",
              "</style>\n",
              "<table border=\"1\" class=\"dataframe\">\n",
              "  <thead>\n",
              "    <tr style=\"text-align: right;\">\n",
              "      <th></th>\n",
              "      <th>HB_length</th>\n",
              "      <th>HB_Angle</th>\n",
              "      <th>Intra_HB</th>\n",
              "      <th>Bifr</th>\n",
              "      <th>Donor</th>\n",
              "      <th>Acceptor</th>\n",
              "      <th>smiles</th>\n",
              "      <th>HB_Type</th>\n",
              "    </tr>\n",
              "  </thead>\n",
              "  <tbody>\n",
              "    <tr>\n",
              "      <th>0</th>\n",
              "      <td>1.8059</td>\n",
              "      <td>164.560</td>\n",
              "      <td>None</td>\n",
              "      <td>0-0-0</td>\n",
              "      <td>ALA</td>\n",
              "      <td>UNL</td>\n",
              "      <td>Nc1nc(N)c2c(CSc3ccc(Cl)c(Cl)c3)c[nH]c2n1</td>\n",
              "      <td>1</td>\n",
              "    </tr>\n",
              "    <tr>\n",
              "      <th>1</th>\n",
              "      <td>2.0383</td>\n",
              "      <td>157.310</td>\n",
              "      <td>None</td>\n",
              "      <td>0-0-0</td>\n",
              "      <td>GLY</td>\n",
              "      <td>UNL</td>\n",
              "      <td>NC(=S)\\N=N\\c1c(O)[nH]c2ccc(I)cc12</td>\n",
              "      <td>1</td>\n",
              "    </tr>\n",
              "    <tr>\n",
              "      <th>2</th>\n",
              "      <td>2.2594</td>\n",
              "      <td>146.840</td>\n",
              "      <td>None</td>\n",
              "      <td>0-0-0</td>\n",
              "      <td>SER</td>\n",
              "      <td>UNL</td>\n",
              "      <td>[Cl-].C[N+](C)(CCCN1c2ccccc2Sc3ccc(Cl)cc13)Cc4...</td>\n",
              "      <td>1</td>\n",
              "    </tr>\n",
              "    <tr>\n",
              "      <th>3</th>\n",
              "      <td>2.2454</td>\n",
              "      <td>111.530</td>\n",
              "      <td>I(5)</td>\n",
              "      <td>0-0-0</td>\n",
              "      <td>UNL</td>\n",
              "      <td>UNL</td>\n",
              "      <td>COc1cc(OC)cc(c1)N(C)Cc2c[nH]c3nc(N)nc(O)c23</td>\n",
              "      <td>0</td>\n",
              "    </tr>\n",
              "    <tr>\n",
              "      <th>4</th>\n",
              "      <td>1.9852</td>\n",
              "      <td>92.543</td>\n",
              "      <td>I(7)</td>\n",
              "      <td>0-0-1</td>\n",
              "      <td>UNL</td>\n",
              "      <td>UNL</td>\n",
              "      <td>COc1cc(Cc2cnc(N)nc2N)cc(OC)c1OC</td>\n",
              "      <td>0</td>\n",
              "    </tr>\n",
              "    <tr>\n",
              "      <th>5</th>\n",
              "      <td>2.0767</td>\n",
              "      <td>160.910</td>\n",
              "      <td>None</td>\n",
              "      <td>0-0-0</td>\n",
              "      <td>UNL</td>\n",
              "      <td>GLU</td>\n",
              "      <td>Cc1c(CN(C=O)c2ccc(Cl)c(Cl)c2)cnc3nc(N)nc(N)c13</td>\n",
              "      <td>1</td>\n",
              "    </tr>\n",
              "    <tr>\n",
              "      <th>6</th>\n",
              "      <td>1.9601</td>\n",
              "      <td>169.290</td>\n",
              "      <td>None</td>\n",
              "      <td>0-0-0</td>\n",
              "      <td>UNL</td>\n",
              "      <td>GLU</td>\n",
              "      <td>Cc1ccc2[nH]c(O)c(\\N=N\\C(=N)S)c2c1</td>\n",
              "      <td>1</td>\n",
              "    </tr>\n",
              "    <tr>\n",
              "      <th>7</th>\n",
              "      <td>2.0765</td>\n",
              "      <td>176.890</td>\n",
              "      <td>None</td>\n",
              "      <td>0-0-0</td>\n",
              "      <td>CYS</td>\n",
              "      <td>UNL</td>\n",
              "      <td>CN(Cc1ccc2nc(N)nc(N)c2n1)c3cccc(Cl)c3</td>\n",
              "      <td>0</td>\n",
              "    </tr>\n",
              "    <tr>\n",
              "      <th>8</th>\n",
              "      <td>2.1522</td>\n",
              "      <td>100.870</td>\n",
              "      <td>I(5)</td>\n",
              "      <td>0-0-0</td>\n",
              "      <td>UNL</td>\n",
              "      <td>UNL</td>\n",
              "      <td>CCCc1cc(O)c(Oc2ccc(cc2Cl)C#N)c(O)c1</td>\n",
              "      <td>1</td>\n",
              "    </tr>\n",
              "    <tr>\n",
              "      <th>9</th>\n",
              "      <td>1.9150</td>\n",
              "      <td>127.320</td>\n",
              "      <td>I(6)</td>\n",
              "      <td>0-0-0</td>\n",
              "      <td>UNL</td>\n",
              "      <td>UNL</td>\n",
              "      <td>Nc1nc(N)c2CC(Cc3cccs3)CCc2n1</td>\n",
              "      <td>0</td>\n",
              "    </tr>\n",
              "  </tbody>\n",
              "</table>\n",
              "</div>\n",
              "      <button class=\"colab-df-convert\" onclick=\"convertToInteractive('df-0f056e7e-3416-462f-8db5-406f64bb7a0c')\"\n",
              "              title=\"Convert this dataframe to an interactive table.\"\n",
              "              style=\"display:none;\">\n",
              "        \n",
              "  <svg xmlns=\"http://www.w3.org/2000/svg\" height=\"24px\"viewBox=\"0 0 24 24\"\n",
              "       width=\"24px\">\n",
              "    <path d=\"M0 0h24v24H0V0z\" fill=\"none\"/>\n",
              "    <path d=\"M18.56 5.44l.94 2.06.94-2.06 2.06-.94-2.06-.94-.94-2.06-.94 2.06-2.06.94zm-11 1L8.5 8.5l.94-2.06 2.06-.94-2.06-.94L8.5 2.5l-.94 2.06-2.06.94zm10 10l.94 2.06.94-2.06 2.06-.94-2.06-.94-.94-2.06-.94 2.06-2.06.94z\"/><path d=\"M17.41 7.96l-1.37-1.37c-.4-.4-.92-.59-1.43-.59-.52 0-1.04.2-1.43.59L10.3 9.45l-7.72 7.72c-.78.78-.78 2.05 0 2.83L4 21.41c.39.39.9.59 1.41.59.51 0 1.02-.2 1.41-.59l7.78-7.78 2.81-2.81c.8-.78.8-2.07 0-2.86zM5.41 20L4 18.59l7.72-7.72 1.47 1.35L5.41 20z\"/>\n",
              "  </svg>\n",
              "      </button>\n",
              "      \n",
              "  <style>\n",
              "    .colab-df-container {\n",
              "      display:flex;\n",
              "      flex-wrap:wrap;\n",
              "      gap: 12px;\n",
              "    }\n",
              "\n",
              "    .colab-df-convert {\n",
              "      background-color: #E8F0FE;\n",
              "      border: none;\n",
              "      border-radius: 50%;\n",
              "      cursor: pointer;\n",
              "      display: none;\n",
              "      fill: #1967D2;\n",
              "      height: 32px;\n",
              "      padding: 0 0 0 0;\n",
              "      width: 32px;\n",
              "    }\n",
              "\n",
              "    .colab-df-convert:hover {\n",
              "      background-color: #E2EBFA;\n",
              "      box-shadow: 0px 1px 2px rgba(60, 64, 67, 0.3), 0px 1px 3px 1px rgba(60, 64, 67, 0.15);\n",
              "      fill: #174EA6;\n",
              "    }\n",
              "\n",
              "    [theme=dark] .colab-df-convert {\n",
              "      background-color: #3B4455;\n",
              "      fill: #D2E3FC;\n",
              "    }\n",
              "\n",
              "    [theme=dark] .colab-df-convert:hover {\n",
              "      background-color: #434B5C;\n",
              "      box-shadow: 0px 1px 3px 1px rgba(0, 0, 0, 0.15);\n",
              "      filter: drop-shadow(0px 1px 2px rgba(0, 0, 0, 0.3));\n",
              "      fill: #FFFFFF;\n",
              "    }\n",
              "  </style>\n",
              "\n",
              "      <script>\n",
              "        const buttonEl =\n",
              "          document.querySelector('#df-0f056e7e-3416-462f-8db5-406f64bb7a0c button.colab-df-convert');\n",
              "        buttonEl.style.display =\n",
              "          google.colab.kernel.accessAllowed ? 'block' : 'none';\n",
              "\n",
              "        async function convertToInteractive(key) {\n",
              "          const element = document.querySelector('#df-0f056e7e-3416-462f-8db5-406f64bb7a0c');\n",
              "          const dataTable =\n",
              "            await google.colab.kernel.invokeFunction('convertToInteractive',\n",
              "                                                     [key], {});\n",
              "          if (!dataTable) return;\n",
              "\n",
              "          const docLinkHtml = 'Like what you see? Visit the ' +\n",
              "            '<a target=\"_blank\" href=https://colab.research.google.com/notebooks/data_table.ipynb>data table notebook</a>'\n",
              "            + ' to learn more about interactive tables.';\n",
              "          element.innerHTML = '';\n",
              "          dataTable['output_type'] = 'display_data';\n",
              "          await google.colab.output.renderOutput(dataTable, element);\n",
              "          const docLink = document.createElement('div');\n",
              "          docLink.innerHTML = docLinkHtml;\n",
              "          element.appendChild(docLink);\n",
              "        }\n",
              "      </script>\n",
              "    </div>\n",
              "  </div>\n",
              "  "
            ]
          },
          "metadata": {},
          "execution_count": 9
        }
      ]
    },
    {
      "cell_type": "code",
      "source": [
        "!pip install kora -q\n",
        "import kora.install.rdkit"
      ],
      "metadata": {
        "colab": {
          "base_uri": "https://localhost:8080/"
        },
        "id": "zz2MEARcWEgB",
        "outputId": "b5641c50-86ce-48ac-912c-7260b2ea0d6d"
      },
      "execution_count": null,
      "outputs": [
        {
          "output_type": "stream",
          "name": "stdout",
          "text": [
            "\u001b[?25l\r\u001b[K     |█████▊                          | 10 kB 34.3 MB/s eta 0:00:01\r\u001b[K     |███████████▍                    | 20 kB 9.8 MB/s eta 0:00:01\r\u001b[K     |█████████████████               | 30 kB 8.4 MB/s eta 0:00:01\r\u001b[K     |██████████████████████▊         | 40 kB 8.0 MB/s eta 0:00:01\r\u001b[K     |████████████████████████████▍   | 51 kB 4.9 MB/s eta 0:00:01\r\u001b[K     |████████████████████████████████| 57 kB 3.0 MB/s \n",
            "\u001b[?25h\u001b[?25l\r\u001b[K     |█████▌                          | 10 kB 36.6 MB/s eta 0:00:01\r\u001b[K     |███████████                     | 20 kB 45.9 MB/s eta 0:00:01\r\u001b[K     |████████████████▍               | 30 kB 53.5 MB/s eta 0:00:01\r\u001b[K     |█████████████████████▉          | 40 kB 58.1 MB/s eta 0:00:01\r\u001b[K     |███████████████████████████▎    | 51 kB 35.0 MB/s eta 0:00:01\r\u001b[K     |████████████████████████████████| 60 kB 8.0 MB/s \n",
            "\u001b[?25h"
          ]
        }
      ]
    },
    {
      "cell_type": "code",
      "source": [
        "from __future__ import print_function\n",
        "\n",
        "from rdkit import Chem\n",
        "from rdkit.Chem import MACCSkeys, AllChem\n",
        "from rdkit.Avalon import pyAvalonTools as fpAvalon\n",
        "from rdkit.Chem.AtomPairs import Pairs, Torsions\n",
        "from rdkit.Chem.Fingerprints import FingerprintMols\n",
        "from rdkit.Chem.ChemicalFeatures import BuildFeatureFactory\n",
        "from rdkit.Chem import rdMolDescriptors\n",
        "import pandas as pd\n",
        "import argparse\n",
        "import textwrap\n",
        "import getopt\n",
        "from argparse import ArgumentParser\n",
        "import time\n",
        "from rdkit.Chem import PandasTools"
      ],
      "metadata": {
        "id": "fNBcBRaZWFhh"
      },
      "execution_count": null,
      "outputs": []
    },
    {
      "cell_type": "code",
      "source": [
        "from rdkit import Chem # A core definition\n",
        "from rdkit.Chem.Draw import MolsToGridImage # For displaying multiple molecules\n",
        "from rdkit.Chem.AllChem import * # conformer generation and adding H\n",
        "from rdkit.Chem.rdMolDescriptors import * # To calculate descriptors\n",
        "from rdkit.Chem.Draw import IPythonConsole # This displays the molecule in-line\n",
        "from rdkit.Chem import PandasTools # for pandas dataframe with rdkit\n",
        "import pandas as pd\n",
        "from rdkit.DataStructs.cDataStructs import ConvertToNumpyArray\n",
        "import numpy as np\n",
        "import matplotlib.pyplot as plt\n"
      ],
      "metadata": {
        "id": "Q2rrBW_tXJYH"
      },
      "execution_count": null,
      "outputs": []
    },
    {
      "cell_type": "code",
      "source": [
        "df1 = df.iloc[0:1000]"
      ],
      "metadata": {
        "id": "0QBnJLn8Xpyq"
      },
      "execution_count": null,
      "outputs": []
    },
    {
      "cell_type": "code",
      "source": [
        "df1['molCol'] = df1['smiles'].map(Chem.MolFromSmiles)\n"
      ],
      "metadata": {
        "colab": {
          "base_uri": "https://localhost:8080/"
        },
        "id": "Gvj5VJ-JXRIl",
        "outputId": "39fbbbf0-cb3f-4777-f027-c7b0780f7a07"
      },
      "execution_count": null,
      "outputs": [
        {
          "output_type": "stream",
          "name": "stderr",
          "text": [
            "/usr/local/lib/python3.7/dist-packages/ipykernel_launcher.py:1: SettingWithCopyWarning: \n",
            "A value is trying to be set on a copy of a slice from a DataFrame.\n",
            "Try using .loc[row_indexer,col_indexer] = value instead\n",
            "\n",
            "See the caveats in the documentation: https://pandas.pydata.org/pandas-docs/stable/user_guide/indexing.html#returning-a-view-versus-a-copy\n",
            "  \"\"\"Entry point for launching an IPython kernel.\n"
          ]
        }
      ]
    },
    {
      "cell_type": "code",
      "source": [
        "df1"
      ],
      "metadata": {
        "colab": {
          "base_uri": "https://localhost:8080/",
          "height": 423
        },
        "id": "vHTfAZYQX035",
        "outputId": "8ca1675a-4828-445a-e98f-041803686cac"
      },
      "execution_count": null,
      "outputs": [
        {
          "output_type": "execute_result",
          "data": {
            "text/plain": [
              "     HB_length  HB_Angle Intra_HB   Bifr Donor Acceptor  \\\n",
              "0       1.8059   164.560     None  0-0-0   ALA      UNL   \n",
              "1       2.0383   157.310     None  0-0-0   GLY      UNL   \n",
              "2       2.2594   146.840     None  0-0-0   SER      UNL   \n",
              "3       2.2454   111.530     I(5)  0-0-0   UNL      UNL   \n",
              "4       1.9852    92.543     I(7)  0-0-1   UNL      UNL   \n",
              "..         ...       ...      ...    ...   ...      ...   \n",
              "995     1.6516   156.020     None  0-0-0   HIS      UNL   \n",
              "996     2.0011   178.180     None  0-0-0   ARG      UNL   \n",
              "997     1.8597   150.520     None  0-0-0   SER      UNL   \n",
              "998     1.8576   150.270     None  0-0-0   ILE      UNL   \n",
              "999     1.7298   139.280     I(7)  0-0-0   UNL      UNL   \n",
              "\n",
              "                                                smiles  HB_Type  \\\n",
              "0             Nc1nc(N)c2c(CSc3ccc(Cl)c(Cl)c3)c[nH]c2n1        1   \n",
              "1                    NC(=S)\\N=N\\c1c(O)[nH]c2ccc(I)cc12        1   \n",
              "2    [Cl-].C[N+](C)(CCCN1c2ccccc2Sc3ccc(Cl)cc13)Cc4...        1   \n",
              "3          COc1cc(OC)cc(c1)N(C)Cc2c[nH]c3nc(N)nc(O)c23        0   \n",
              "4                      COc1cc(Cc2cnc(N)nc2N)cc(OC)c1OC        0   \n",
              "..                                                 ...      ...   \n",
              "995      COc1ccc(C(=O)OCc2ccc3nc(N)nc(N)c3c2)c(OC)c1OC        1   \n",
              "996  CC[C@H](C)[C@@H]1NC(=O)[C@H](Cc2cn(C)c3ccccc23...        1   \n",
              "997  CN1CCC(CC1)c2cc(c3ccncc3)c([nH]2)c4ccc(cc4)C(F...        1   \n",
              "998           COc1cc(CCc2cccc3nc(N)nc(N)c23)cc(OC)c1OC        1   \n",
              "999     CCCN1CCC(CC1)c2cc(c3ccncc3)c([nH]2)c4ccc(F)cc4        1   \n",
              "\n",
              "                                                molCol  \n",
              "0    <img data-content=\"rdkit/molecule\" src=\"data:i...  \n",
              "1    <img data-content=\"rdkit/molecule\" src=\"data:i...  \n",
              "2    <img data-content=\"rdkit/molecule\" src=\"data:i...  \n",
              "3    <img data-content=\"rdkit/molecule\" src=\"data:i...  \n",
              "4    <img data-content=\"rdkit/molecule\" src=\"data:i...  \n",
              "..                                                 ...  \n",
              "995  <img data-content=\"rdkit/molecule\" src=\"data:i...  \n",
              "996  <img data-content=\"rdkit/molecule\" src=\"data:i...  \n",
              "997  <img data-content=\"rdkit/molecule\" src=\"data:i...  \n",
              "998  <img data-content=\"rdkit/molecule\" src=\"data:i...  \n",
              "999  <img data-content=\"rdkit/molecule\" src=\"data:i...  \n",
              "\n",
              "[1000 rows x 9 columns]"
            ],
            "text/html": [
              "\n",
              "  <div id=\"df-804b8461-0c15-4122-8124-0355b183293b\">\n",
              "    <div class=\"colab-df-container\">\n",
              "      <div>\n",
              "<style scoped>\n",
              "    .dataframe tbody tr th:only-of-type {\n",
              "        vertical-align: middle;\n",
              "    }\n",
              "\n",
              "    .dataframe tbody tr th {\n",
              "        vertical-align: top;\n",
              "    }\n",
              "\n",
              "    .dataframe thead th {\n",
              "        text-align: right;\n",
              "    }\n",
              "</style>\n",
              "<table border=\"1\" class=\"dataframe\">\n",
              "  <thead>\n",
              "    <tr style=\"text-align: right;\">\n",
              "      <th></th>\n",
              "      <th>HB_length</th>\n",
              "      <th>HB_Angle</th>\n",
              "      <th>Intra_HB</th>\n",
              "      <th>Bifr</th>\n",
              "      <th>Donor</th>\n",
              "      <th>Acceptor</th>\n",
              "      <th>smiles</th>\n",
              "      <th>HB_Type</th>\n",
              "      <th>molCol</th>\n",
              "    </tr>\n",
              "  </thead>\n",
              "  <tbody>\n",
              "    <tr>\n",
              "      <th>0</th>\n",
              "      <td>1.8059</td>\n",
              "      <td>164.560</td>\n",
              "      <td>None</td>\n",
              "      <td>0-0-0</td>\n",
              "      <td>ALA</td>\n",
              "      <td>UNL</td>\n",
              "      <td>Nc1nc(N)c2c(CSc3ccc(Cl)c(Cl)c3)c[nH]c2n1</td>\n",
              "      <td>1</td>\n",
              "      <td>&lt;img data-content=\"rdkit/molecule\" src=\"data:i...</td>\n",
              "    </tr>\n",
              "    <tr>\n",
              "      <th>1</th>\n",
              "      <td>2.0383</td>\n",
              "      <td>157.310</td>\n",
              "      <td>None</td>\n",
              "      <td>0-0-0</td>\n",
              "      <td>GLY</td>\n",
              "      <td>UNL</td>\n",
              "      <td>NC(=S)\\N=N\\c1c(O)[nH]c2ccc(I)cc12</td>\n",
              "      <td>1</td>\n",
              "      <td>&lt;img data-content=\"rdkit/molecule\" src=\"data:i...</td>\n",
              "    </tr>\n",
              "    <tr>\n",
              "      <th>2</th>\n",
              "      <td>2.2594</td>\n",
              "      <td>146.840</td>\n",
              "      <td>None</td>\n",
              "      <td>0-0-0</td>\n",
              "      <td>SER</td>\n",
              "      <td>UNL</td>\n",
              "      <td>[Cl-].C[N+](C)(CCCN1c2ccccc2Sc3ccc(Cl)cc13)Cc4...</td>\n",
              "      <td>1</td>\n",
              "      <td>&lt;img data-content=\"rdkit/molecule\" src=\"data:i...</td>\n",
              "    </tr>\n",
              "    <tr>\n",
              "      <th>3</th>\n",
              "      <td>2.2454</td>\n",
              "      <td>111.530</td>\n",
              "      <td>I(5)</td>\n",
              "      <td>0-0-0</td>\n",
              "      <td>UNL</td>\n",
              "      <td>UNL</td>\n",
              "      <td>COc1cc(OC)cc(c1)N(C)Cc2c[nH]c3nc(N)nc(O)c23</td>\n",
              "      <td>0</td>\n",
              "      <td>&lt;img data-content=\"rdkit/molecule\" src=\"data:i...</td>\n",
              "    </tr>\n",
              "    <tr>\n",
              "      <th>4</th>\n",
              "      <td>1.9852</td>\n",
              "      <td>92.543</td>\n",
              "      <td>I(7)</td>\n",
              "      <td>0-0-1</td>\n",
              "      <td>UNL</td>\n",
              "      <td>UNL</td>\n",
              "      <td>COc1cc(Cc2cnc(N)nc2N)cc(OC)c1OC</td>\n",
              "      <td>0</td>\n",
              "      <td>&lt;img data-content=\"rdkit/molecule\" src=\"data:i...</td>\n",
              "    </tr>\n",
              "    <tr>\n",
              "      <th>...</th>\n",
              "      <td>...</td>\n",
              "      <td>...</td>\n",
              "      <td>...</td>\n",
              "      <td>...</td>\n",
              "      <td>...</td>\n",
              "      <td>...</td>\n",
              "      <td>...</td>\n",
              "      <td>...</td>\n",
              "      <td>...</td>\n",
              "    </tr>\n",
              "    <tr>\n",
              "      <th>995</th>\n",
              "      <td>1.6516</td>\n",
              "      <td>156.020</td>\n",
              "      <td>None</td>\n",
              "      <td>0-0-0</td>\n",
              "      <td>HIS</td>\n",
              "      <td>UNL</td>\n",
              "      <td>COc1ccc(C(=O)OCc2ccc3nc(N)nc(N)c3c2)c(OC)c1OC</td>\n",
              "      <td>1</td>\n",
              "      <td>&lt;img data-content=\"rdkit/molecule\" src=\"data:i...</td>\n",
              "    </tr>\n",
              "    <tr>\n",
              "      <th>996</th>\n",
              "      <td>2.0011</td>\n",
              "      <td>178.180</td>\n",
              "      <td>None</td>\n",
              "      <td>0-0-0</td>\n",
              "      <td>ARG</td>\n",
              "      <td>UNL</td>\n",
              "      <td>CC[C@H](C)[C@@H]1NC(=O)[C@H](Cc2cn(C)c3ccccc23...</td>\n",
              "      <td>1</td>\n",
              "      <td>&lt;img data-content=\"rdkit/molecule\" src=\"data:i...</td>\n",
              "    </tr>\n",
              "    <tr>\n",
              "      <th>997</th>\n",
              "      <td>1.8597</td>\n",
              "      <td>150.520</td>\n",
              "      <td>None</td>\n",
              "      <td>0-0-0</td>\n",
              "      <td>SER</td>\n",
              "      <td>UNL</td>\n",
              "      <td>CN1CCC(CC1)c2cc(c3ccncc3)c([nH]2)c4ccc(cc4)C(F...</td>\n",
              "      <td>1</td>\n",
              "      <td>&lt;img data-content=\"rdkit/molecule\" src=\"data:i...</td>\n",
              "    </tr>\n",
              "    <tr>\n",
              "      <th>998</th>\n",
              "      <td>1.8576</td>\n",
              "      <td>150.270</td>\n",
              "      <td>None</td>\n",
              "      <td>0-0-0</td>\n",
              "      <td>ILE</td>\n",
              "      <td>UNL</td>\n",
              "      <td>COc1cc(CCc2cccc3nc(N)nc(N)c23)cc(OC)c1OC</td>\n",
              "      <td>1</td>\n",
              "      <td>&lt;img data-content=\"rdkit/molecule\" src=\"data:i...</td>\n",
              "    </tr>\n",
              "    <tr>\n",
              "      <th>999</th>\n",
              "      <td>1.7298</td>\n",
              "      <td>139.280</td>\n",
              "      <td>I(7)</td>\n",
              "      <td>0-0-0</td>\n",
              "      <td>UNL</td>\n",
              "      <td>UNL</td>\n",
              "      <td>CCCN1CCC(CC1)c2cc(c3ccncc3)c([nH]2)c4ccc(F)cc4</td>\n",
              "      <td>1</td>\n",
              "      <td>&lt;img data-content=\"rdkit/molecule\" src=\"data:i...</td>\n",
              "    </tr>\n",
              "  </tbody>\n",
              "</table>\n",
              "<p>1000 rows × 9 columns</p>\n",
              "</div>\n",
              "      <button class=\"colab-df-convert\" onclick=\"convertToInteractive('df-804b8461-0c15-4122-8124-0355b183293b')\"\n",
              "              title=\"Convert this dataframe to an interactive table.\"\n",
              "              style=\"display:none;\">\n",
              "        \n",
              "  <svg xmlns=\"http://www.w3.org/2000/svg\" height=\"24px\"viewBox=\"0 0 24 24\"\n",
              "       width=\"24px\">\n",
              "    <path d=\"M0 0h24v24H0V0z\" fill=\"none\"/>\n",
              "    <path d=\"M18.56 5.44l.94 2.06.94-2.06 2.06-.94-2.06-.94-.94-2.06-.94 2.06-2.06.94zm-11 1L8.5 8.5l.94-2.06 2.06-.94-2.06-.94L8.5 2.5l-.94 2.06-2.06.94zm10 10l.94 2.06.94-2.06 2.06-.94-2.06-.94-.94-2.06-.94 2.06-2.06.94z\"/><path d=\"M17.41 7.96l-1.37-1.37c-.4-.4-.92-.59-1.43-.59-.52 0-1.04.2-1.43.59L10.3 9.45l-7.72 7.72c-.78.78-.78 2.05 0 2.83L4 21.41c.39.39.9.59 1.41.59.51 0 1.02-.2 1.41-.59l7.78-7.78 2.81-2.81c.8-.78.8-2.07 0-2.86zM5.41 20L4 18.59l7.72-7.72 1.47 1.35L5.41 20z\"/>\n",
              "  </svg>\n",
              "      </button>\n",
              "      \n",
              "  <style>\n",
              "    .colab-df-container {\n",
              "      display:flex;\n",
              "      flex-wrap:wrap;\n",
              "      gap: 12px;\n",
              "    }\n",
              "\n",
              "    .colab-df-convert {\n",
              "      background-color: #E8F0FE;\n",
              "      border: none;\n",
              "      border-radius: 50%;\n",
              "      cursor: pointer;\n",
              "      display: none;\n",
              "      fill: #1967D2;\n",
              "      height: 32px;\n",
              "      padding: 0 0 0 0;\n",
              "      width: 32px;\n",
              "    }\n",
              "\n",
              "    .colab-df-convert:hover {\n",
              "      background-color: #E2EBFA;\n",
              "      box-shadow: 0px 1px 2px rgba(60, 64, 67, 0.3), 0px 1px 3px 1px rgba(60, 64, 67, 0.15);\n",
              "      fill: #174EA6;\n",
              "    }\n",
              "\n",
              "    [theme=dark] .colab-df-convert {\n",
              "      background-color: #3B4455;\n",
              "      fill: #D2E3FC;\n",
              "    }\n",
              "\n",
              "    [theme=dark] .colab-df-convert:hover {\n",
              "      background-color: #434B5C;\n",
              "      box-shadow: 0px 1px 3px 1px rgba(0, 0, 0, 0.15);\n",
              "      filter: drop-shadow(0px 1px 2px rgba(0, 0, 0, 0.3));\n",
              "      fill: #FFFFFF;\n",
              "    }\n",
              "  </style>\n",
              "\n",
              "      <script>\n",
              "        const buttonEl =\n",
              "          document.querySelector('#df-804b8461-0c15-4122-8124-0355b183293b button.colab-df-convert');\n",
              "        buttonEl.style.display =\n",
              "          google.colab.kernel.accessAllowed ? 'block' : 'none';\n",
              "\n",
              "        async function convertToInteractive(key) {\n",
              "          const element = document.querySelector('#df-804b8461-0c15-4122-8124-0355b183293b');\n",
              "          const dataTable =\n",
              "            await google.colab.kernel.invokeFunction('convertToInteractive',\n",
              "                                                     [key], {});\n",
              "          if (!dataTable) return;\n",
              "\n",
              "          const docLinkHtml = 'Like what you see? Visit the ' +\n",
              "            '<a target=\"_blank\" href=https://colab.research.google.com/notebooks/data_table.ipynb>data table notebook</a>'\n",
              "            + ' to learn more about interactive tables.';\n",
              "          element.innerHTML = '';\n",
              "          dataTable['output_type'] = 'display_data';\n",
              "          await google.colab.output.renderOutput(dataTable, element);\n",
              "          const docLink = document.createElement('div');\n",
              "          docLink.innerHTML = docLinkHtml;\n",
              "          element.appendChild(docLink);\n",
              "        }\n",
              "      </script>\n",
              "    </div>\n",
              "  </div>\n",
              "  "
            ]
          },
          "metadata": {},
          "execution_count": 15
        }
      ]
    },
    {
      "cell_type": "code",
      "source": [
        "def get_input(mol):\n",
        "    fp = GetMorganFingerprintAsBitVect(mol, 2, nBits=100) # gets the vector\n",
        "    arr = np.zeros((0,))\n",
        "    ConvertToNumpyArray(fp,arr)  # converts the vector to numpy array\n",
        "    return arr\n",
        "\n",
        "df1[\"input\"] = df1[\"molCol\"].apply(get_input) # adding the input column to the dataframe\n",
        "#df.head()"
      ],
      "metadata": {
        "colab": {
          "base_uri": "https://localhost:8080/"
        },
        "id": "B4DH_20SYAM2",
        "outputId": "b6a24df6-9254-4ec8-dc46-60a435822e83"
      },
      "execution_count": null,
      "outputs": [
        {
          "output_type": "stream",
          "name": "stderr",
          "text": [
            "/usr/local/lib/python3.7/dist-packages/ipykernel_launcher.py:7: SettingWithCopyWarning: \n",
            "A value is trying to be set on a copy of a slice from a DataFrame.\n",
            "Try using .loc[row_indexer,col_indexer] = value instead\n",
            "\n",
            "See the caveats in the documentation: https://pandas.pydata.org/pandas-docs/stable/user_guide/indexing.html#returning-a-view-versus-a-copy\n",
            "  import sys\n"
          ]
        }
      ]
    },
    {
      "cell_type": "code",
      "source": [
        "number_arr=[]\n",
        "\n",
        "for i in range(1000):\n",
        "    number = i\n",
        "    number_arr.append(number)\n",
        "\n",
        "df1['task_indexes'] = number_arr"
      ],
      "metadata": {
        "colab": {
          "base_uri": "https://localhost:8080/"
        },
        "id": "NazvywNiYV6r",
        "outputId": "6daead4a-9c00-416d-eba8-0de4977e3e10"
      },
      "execution_count": null,
      "outputs": [
        {
          "output_type": "stream",
          "name": "stderr",
          "text": [
            "/usr/local/lib/python3.7/dist-packages/ipykernel_launcher.py:7: SettingWithCopyWarning: \n",
            "A value is trying to be set on a copy of a slice from a DataFrame.\n",
            "Try using .loc[row_indexer,col_indexer] = value instead\n",
            "\n",
            "See the caveats in the documentation: https://pandas.pydata.org/pandas-docs/stable/user_guide/indexing.html#returning-a-view-versus-a-copy\n",
            "  import sys\n"
          ]
        }
      ]
    },
    {
      "cell_type": "code",
      "source": [
        "import scipy.io as sio"
      ],
      "metadata": {
        "id": "a-g0Ho0XZQMk"
      },
      "execution_count": null,
      "outputs": []
    },
    {
      "cell_type": "code",
      "source": [
        "# changed data to float because yhat will be floats\n",
        "X = np.array(df1['input'])\n",
        "y = np.array(df1['HB_Type'])\n",
        "z = np.array(df1['task_indexes'])\n",
        "print(\"We have an input array of shape:\", X.shape)\n",
        "print(\"We have an output array of shape:\", y.shape)"
      ],
      "metadata": {
        "colab": {
          "base_uri": "https://localhost:8080/"
        },
        "id": "dVQL6eLpZRBU",
        "outputId": "50116673-7339-4ed3-ace0-3669d7db9df2"
      },
      "execution_count": null,
      "outputs": [
        {
          "output_type": "stream",
          "name": "stdout",
          "text": [
            "We have an input array of shape: (1000,)\n",
            "We have an output array of shape: (1000,)\n"
          ]
        }
      ]
    },
    {
      "cell_type": "code",
      "source": [
        "from tensorflow import keras\n",
        "from tensorflow.keras.models import Sequential\n",
        "from tensorflow.keras.layers import Reshape\n",
        "from tensorflow.keras.layers import Dense, Dropout, Activation, Flatten"
      ],
      "metadata": {
        "id": "Hkmf7kdxZpqB"
      },
      "execution_count": null,
      "outputs": []
    },
    {
      "cell_type": "code",
      "source": [
        "X.shape"
      ],
      "metadata": {
        "colab": {
          "base_uri": "https://localhost:8080/"
        },
        "id": "FwI18ke8aJr1",
        "outputId": "41e1a942-f271-4879-c1ee-4303617cd656"
      },
      "execution_count": null,
      "outputs": [
        {
          "output_type": "execute_result",
          "data": {
            "text/plain": [
              "(1000,)"
            ]
          },
          "metadata": {},
          "execution_count": 21
        }
      ]
    },
    {
      "cell_type": "code",
      "source": [
        "X = np.concatenate(X)\n"
      ],
      "metadata": {
        "id": "yHtA8WGjZvtv"
      },
      "execution_count": null,
      "outputs": []
    },
    {
      "cell_type": "code",
      "source": [
        "X = X.reshape(1000,100)"
      ],
      "metadata": {
        "id": "dweOiIrdcJea"
      },
      "execution_count": null,
      "outputs": []
    },
    {
      "cell_type": "code",
      "source": [
        "X.shape"
      ],
      "metadata": {
        "colab": {
          "base_uri": "https://localhost:8080/"
        },
        "id": "u3hhlG13aDIF",
        "outputId": "9b4aa62c-8b35-4a09-b37f-e5f2daac6b61"
      },
      "execution_count": null,
      "outputs": [
        {
          "output_type": "execute_result",
          "data": {
            "text/plain": [
              "(1000, 100)"
            ]
          },
          "metadata": {},
          "execution_count": 24
        }
      ]
    },
    {
      "cell_type": "code",
      "source": [
        "mat ={}\n",
        "X = np.array(X)\n",
        "mat['X'] = X\n",
        "mat['y'] = y\n",
        "mat['task_indexes'] = z"
      ],
      "metadata": {
        "id": "zyStFsu8cO_n"
      },
      "execution_count": null,
      "outputs": []
    },
    {
      "cell_type": "code",
      "source": [
        "filemat = 'mat1.mat'\n",
        "sio.savemat(filemat, mat)\n",
        "raw_data = sio.loadmat('mat1.mat')\n",
        "X = np.array(raw_data['X'])\n",
        "y = np.array(raw_data['y'].T)\n",
        "print(\"We have an input array of shape:\", X.shape)\n",
        "print(\"We have an output array of shape:\", y.shape)"
      ],
      "metadata": {
        "colab": {
          "base_uri": "https://localhost:8080/"
        },
        "id": "HxaQnd4Zcbv-",
        "outputId": "03dcec2c-bcc1-4ffe-9802-48df5dcccba9"
      },
      "execution_count": null,
      "outputs": [
        {
          "output_type": "stream",
          "name": "stdout",
          "text": [
            "We have an input array of shape: (1000, 100)\n",
            "We have an output array of shape: (1000, 1)\n"
          ]
        }
      ]
    },
    {
      "cell_type": "code",
      "source": [
        "# Matlab - arrays are indexed at 1, needs adapting\n",
        "start_index = np.ravel(raw_data[\"task_indexes\"])"
      ],
      "metadata": {
        "id": "seKwkaSlcn80"
      },
      "execution_count": null,
      "outputs": []
    },
    {
      "cell_type": "code",
      "source": [
        "from sklearn.utils import Bunch\n",
        "# save each HB data into a separate dictionary key\n",
        "# value is a bunch with both feature data and labels\n",
        "tasks = dict()\n",
        "for i in range(1000):\n",
        "    start = start_index[i]\n",
        "    if i == 999:\n",
        "        end = -1\n",
        "    else:\n",
        "        end = start_index[i + 1]\n",
        "    descr = \"Protein data: protein {}\".format(i + 1)\n",
        "    sid = \"protein {}\".format(i + 1)\n",
        "    tasks[sid] = Bunch(data=X[start:end],\n",
        "                       target=y[start:end],\n",
        "                       DESCR=descr)\n",
        "#     if len(tasks.keys())>50:\n",
        "#         break"
      ],
      "metadata": {
        "id": "wPjyg4N2cubD"
      },
      "execution_count": null,
      "outputs": []
    },
    {
      "cell_type": "code",
      "source": [
        "print(\"Number of targets in dataset:\", len(tasks.keys()))"
      ],
      "metadata": {
        "colab": {
          "base_uri": "https://localhost:8080/"
        },
        "id": "XawPEggLc3UJ",
        "outputId": "0caf29b5-84af-4cf9-87fc-6dee603f16ed"
      },
      "execution_count": null,
      "outputs": [
        {
          "output_type": "stream",
          "name": "stdout",
          "text": [
            "Number of targets in dataset: 1000\n"
          ]
        }
      ]
    },
    {
      "cell_type": "code",
      "source": [
        "from sklearn.model_selection import train_test_split\n",
        "# create training and testing data\n",
        "X_train, X_test, y_train, y_test = train_test_split(X,y ,test_size=0.4, random_state=42)"
      ],
      "metadata": {
        "id": "SxsSHNx5dD84"
      },
      "execution_count": null,
      "outputs": []
    },
    {
      "cell_type": "code",
      "source": [
        "X_train.shape\n"
      ],
      "metadata": {
        "colab": {
          "base_uri": "https://localhost:8080/"
        },
        "id": "MmpDZi7gdJzv",
        "outputId": "3f7c35d4-c356-420e-d379-41b5c6d59aa8"
      },
      "execution_count": null,
      "outputs": [
        {
          "output_type": "execute_result",
          "data": {
            "text/plain": [
              "(600, 100)"
            ]
          },
          "metadata": {},
          "execution_count": 31
        }
      ]
    },
    {
      "cell_type": "code",
      "source": [
        "X_train_all = np.concatenate(X_train)\n",
        "y_train_all = np.concatenate(y_train)\n",
        "\n",
        "X_test_all = np.concatenate(X_test)\n",
        "y_test_all = np.concatenate(y_test)"
      ],
      "metadata": {
        "id": "ellSHutudO1e"
      },
      "execution_count": null,
      "outputs": []
    },
    {
      "cell_type": "markdown",
      "source": [
        "# General MOdel"
      ],
      "metadata": {
        "id": "BBsWZwej_mIu"
      }
    },
    {
      "cell_type": "code",
      "source": [
        "generalized_mlp = Sequential()\n",
        "generalized_mlp.add(Dense(input_dim=X_train.shape[1], units=32, activation='relu', name='input_dense32'))\n",
        "generalized_mlp.add(Dense(units=16, activation='relu', name='mid_dense16'))\n",
        "generalized_mlp.add(Dense(1, activation='linear', name='output_layer'))\n",
        "\n",
        "generalized_mlp.compile(loss='mean_squared_error',\n",
        "            optimizer='rmsprop',\n",
        "            metrics=[])\n",
        "\n",
        "generalized_mlp.fit(X_train, y_train, epochs=20,\n",
        "                    shuffle=True, verbose=1, validation_data=(X_test,y_test))\n",
        "y_hat_general = generalized_mlp.predict(X_test)"
      ],
      "metadata": {
        "colab": {
          "base_uri": "https://localhost:8080/"
        },
        "id": "sP6ylzkkdU2V",
        "outputId": "68e52878-87cf-47d2-a491-bd21e77b1d65"
      },
      "execution_count": null,
      "outputs": [
        {
          "output_type": "stream",
          "name": "stdout",
          "text": [
            "Epoch 1/20\n",
            "19/19 [==============================] - 3s 11ms/step - loss: 0.3053 - val_loss: 0.2562\n",
            "Epoch 2/20\n",
            "19/19 [==============================] - 0s 5ms/step - loss: 0.2521 - val_loss: 0.2562\n",
            "Epoch 3/20\n",
            "19/19 [==============================] - 0s 6ms/step - loss: 0.2290 - val_loss: 0.2528\n",
            "Epoch 4/20\n",
            "19/19 [==============================] - 0s 4ms/step - loss: 0.2105 - val_loss: 0.2479\n",
            "Epoch 5/20\n",
            "19/19 [==============================] - 0s 4ms/step - loss: 0.1950 - val_loss: 0.2516\n",
            "Epoch 6/20\n",
            "19/19 [==============================] - 0s 4ms/step - loss: 0.1852 - val_loss: 0.2555\n",
            "Epoch 7/20\n",
            "19/19 [==============================] - 0s 5ms/step - loss: 0.1740 - val_loss: 0.2559\n",
            "Epoch 8/20\n",
            "19/19 [==============================] - 0s 4ms/step - loss: 0.1637 - val_loss: 0.2554\n",
            "Epoch 9/20\n",
            "19/19 [==============================] - 0s 4ms/step - loss: 0.1547 - val_loss: 0.2584\n",
            "Epoch 10/20\n",
            "19/19 [==============================] - 0s 4ms/step - loss: 0.1468 - val_loss: 0.2593\n",
            "Epoch 11/20\n",
            "19/19 [==============================] - 0s 5ms/step - loss: 0.1403 - val_loss: 0.2643\n",
            "Epoch 12/20\n",
            "19/19 [==============================] - 0s 4ms/step - loss: 0.1331 - val_loss: 0.2656\n",
            "Epoch 13/20\n",
            "19/19 [==============================] - 0s 5ms/step - loss: 0.1276 - val_loss: 0.2685\n",
            "Epoch 14/20\n",
            "19/19 [==============================] - 0s 4ms/step - loss: 0.1236 - val_loss: 0.2649\n",
            "Epoch 15/20\n",
            "19/19 [==============================] - 0s 4ms/step - loss: 0.1173 - val_loss: 0.2708\n",
            "Epoch 16/20\n",
            "19/19 [==============================] - 0s 4ms/step - loss: 0.1124 - val_loss: 0.2695\n",
            "Epoch 17/20\n",
            "19/19 [==============================] - 0s 4ms/step - loss: 0.1072 - val_loss: 0.2739\n",
            "Epoch 18/20\n",
            "19/19 [==============================] - 0s 4ms/step - loss: 0.1029 - val_loss: 0.2793\n",
            "Epoch 19/20\n",
            "19/19 [==============================] - 0s 4ms/step - loss: 0.0988 - val_loss: 0.2758\n",
            "Epoch 20/20\n",
            "19/19 [==============================] - 0s 4ms/step - loss: 0.0962 - val_loss: 0.2842\n"
          ]
        }
      ]
    },
    {
      "cell_type": "markdown",
      "source": [
        "# General Model Evaluation"
      ],
      "metadata": {
        "id": "RGRsFAgy_qrF"
      }
    },
    {
      "cell_type": "code",
      "source": [
        "y_predicted = y_hat_general\n",
        "y_true = y_test"
      ],
      "metadata": {
        "id": "l-T9sD8776yF"
      },
      "execution_count": null,
      "outputs": []
    },
    {
      "cell_type": "code",
      "source": [
        "y_predicted_cor1 = []\n",
        "for i in range (len(y_true)):\n",
        "    if y_predicted[i] < 0.5:\n",
        "        i = 0\n",
        "    else:\n",
        "        i = 1\n",
        "    y_predicted_cor1.append(i)"
      ],
      "metadata": {
        "id": "e8MRzKFx831Y"
      },
      "execution_count": null,
      "outputs": []
    },
    {
      "cell_type": "code",
      "source": [
        "active = []\n",
        "inactive = []\n",
        "\n",
        "for i in range (len(y_true)):\n",
        "    if y_predicted_cor1[i] == 0:\n",
        "        inactive.append(i)\n",
        "    else:\n",
        "        active.append(i)\n",
        "print('number of non NH-O type HBs  from 400000 ligands = ', len(inactive))\n",
        "print('number of  NH-O type HBs  from 400000 ligands = ', len(active))"
      ],
      "metadata": {
        "colab": {
          "base_uri": "https://localhost:8080/"
        },
        "id": "7T4zTSCw-H1k",
        "outputId": "07ef9e1d-4502-4129-9419-21aa9d523c26"
      },
      "execution_count": null,
      "outputs": [
        {
          "output_type": "stream",
          "name": "stdout",
          "text": [
            "number of non NH-O type HBs  from 400000 ligands =  114\n",
            "number of  NH-O type HBs  from 400000 ligands =  286\n"
          ]
        }
      ]
    },
    {
      "cell_type": "code",
      "source": [
        "numActives = 337\n",
        "numDecoys = 63\n",
        "numMol = numActives + numDecoys\n",
        "act = [[1] for _ in range(0, numActives)]\n",
        "dcy = [[0] for _ in range(0, numDecoys)]\n",
        "scoreBestCase = act + dcy\n",
        "scoreWorstCase = dcy + act\n",
        "scoreAllActives = [[1] for _ in range(0, numMol)]\n",
        "scoreAllDecoys = [[0] for _ in range(0, numMol)]\n",
        "index = 0  # where the active/inactive information lies\n",
        "# test the 6.75% fraction\n",
        "fractions = [float((numActives)/10) / numMol]\n",
        "#fracSmall = [fractions[0] / 4000]\n",
        "# exponential weight\n",
        "alpha = 80.0"
      ],
      "metadata": {
        "id": "7rXkljzQ-H3G"
      },
      "execution_count": null,
      "outputs": []
    },
    {
      "cell_type": "code",
      "source": [
        "import rdkit.ML.Scoring.Scoring as calc"
      ],
      "metadata": {
        "id": "rUqYsbTJ-3zv"
      },
      "execution_count": null,
      "outputs": []
    },
    {
      "cell_type": "code",
      "source": [
        "print('The best AUC value of the model = ',calc.CalcAUC(scoreBestCase, index))\n",
        "print('The worst AUC value of the model = ',calc.CalcAUC(scoreWorstCase, index))\n",
        "print('The AUC value when all are active = ',calc.CalcAUC(scoreAllActives, index))\n",
        "print('The AUC value when all are inactive = ',calc.CalcAUC(scoreAllDecoys, index))"
      ],
      "metadata": {
        "colab": {
          "base_uri": "https://localhost:8080/"
        },
        "id": "8n7wnknG-4G7",
        "outputId": "f4b61b98-ea0b-4207-90d7-d8b2b9533828"
      },
      "execution_count": null,
      "outputs": [
        {
          "output_type": "stream",
          "name": "stdout",
          "text": [
            "The best AUC value of the model =  1.0\n",
            "The worst AUC value of the model =  0.0\n",
            "The AUC value when all are active =  0.0\n",
            "The AUC value when all are inactive =  0.0\n"
          ]
        }
      ]
    },
    {
      "cell_type": "code",
      "source": [
        "print('The best enrich factor 6.75% value of the model = ',calc.CalcEnrichment(scoreBestCase, index, fractions))\n",
        "print('The worst enrich factor 6.75% value of the model = ',calc.CalcEnrichment(scoreWorstCase, index, fractions))\n",
        "print('The enrich factor value 6.75% when all are active = ',calc.CalcEnrichment(scoreAllActives, index, fractions))\n",
        "print('The enrich factor value 6.75% when all are inactive = ',calc.CalcEnrichment(scoreAllDecoys, index, fractions))"
      ],
      "metadata": {
        "colab": {
          "base_uri": "https://localhost:8080/"
        },
        "id": "JX78dQjF-4P1",
        "outputId": "f39bee5a-0156-4615-d02c-d9c9d7000fb6"
      },
      "execution_count": null,
      "outputs": [
        {
          "output_type": "stream",
          "name": "stdout",
          "text": [
            "The best enrich factor 6.75% value of the model =  [1.1869436201780414]\n",
            "The worst enrich factor 6.75% value of the model =  [0.0]\n",
            "The enrich factor value 6.75% when all are active =  [1.0]\n",
            "The enrich factor value 6.75% when all are inactive =  [0.0]\n"
          ]
        }
      ]
    },
    {
      "cell_type": "code",
      "source": [
        "print('The best Bed roc 80 value of the model = ',calc.CalcBEDROC(scoreBestCase, index, alpha))\n",
        "print('The worst Bed roc 80 value of the model = ',calc.CalcBEDROC(scoreWorstCase, index, alpha))\n",
        "print('The Bed roc value 80 when all are active = ',calc.CalcBEDROC(scoreAllActives, index, alpha))\n",
        "print('The Bed roc value 80 when all are inactive = ',calc.CalcBEDROC(scoreAllDecoys, index, alpha))"
      ],
      "metadata": {
        "colab": {
          "base_uri": "https://localhost:8080/"
        },
        "id": "mNsU_bMWARin",
        "outputId": "64dce70b-c28a-4018-afe3-dd89f5fc1b90"
      },
      "execution_count": null,
      "outputs": [
        {
          "output_type": "stream",
          "name": "stdout",
          "text": [
            "The best Bed roc 80 value of the model =  1.0\n",
            "The worst Bed roc 80 value of the model =  -2.2122457597178227e-20\n",
            "The Bed roc value 80 when all are active =  1.0\n",
            "The Bed roc value 80 when all are inactive =  0.0\n"
          ]
        }
      ]
    },
    {
      "cell_type": "markdown",
      "source": [],
      "metadata": {
        "id": "mjaZABeEB9Pv"
      }
    },
    {
      "cell_type": "code",
      "source": [
        "from sklearn.metrics import mean_squared_error, accuracy_score\n",
        "from sklearn.metrics import precision_score, mean_squared_log_error\n",
        "\n",
        "def bland_altman_plot(data1, data2, *args, **kwargs):\n",
        "    data1     = np.asarray(data1)\n",
        "    data2     = np.asarray(data2)\n",
        "    mean      = np.mean([data1, data2], axis=0)\n",
        "    diff      = data1 - data2                   # Difference between data1 and data2\n",
        "    md        = np.mean(diff)                   # Mean of the difference\n",
        "    sd        = np.std(diff, axis=0)            # Standard deviation of the difference\n",
        "\n",
        "    plt.figure(figsize=(15,10))\n",
        "    plt.scatter(mean, diff, *args, **kwargs)\n",
        "    plt.axhline(md,           color='gray', linestyle='--')\n",
        "    plt.axhline(md + 1.96*sd, color='gray', linestyle='--')\n",
        "    plt.axhline(md - 1.96*sd, color='gray', linestyle='--')\n",
        "    plt.title(\"Bland Altman, MSE: \"+str(mean_squared_error(data1,data2)))\n",
        "    plt.xlabel('Mean Score', fontsize=8)\n",
        "    plt.ylabel('Diff Score', fontsize=8)\n",
        "    plt.show()"
      ],
      "metadata": {
        "id": "R4U2qpyHARs2"
      },
      "execution_count": null,
      "outputs": []
    },
    {
      "cell_type": "code",
      "source": [
        "bland_altman_plot(y_test, y_predicted)"
      ],
      "metadata": {
        "colab": {
          "base_uri": "https://localhost:8080/",
          "height": 621
        },
        "id": "IBG3qw0MBnC3",
        "outputId": "2411a78e-46bc-4192-cad4-1f54acd22c54"
      },
      "execution_count": null,
      "outputs": [
        {
          "output_type": "display_data",
          "data": {
            "text/plain": [
              "<Figure size 1080x720 with 1 Axes>"
            ],
            "image/png": "[encoded data removed]"
          },
          "metadata": {
            "needs_background": "light"
          }
        }
      ]
    },
    {
      "cell_type": "markdown",
      "source": [
        "#  MUlti-Task Model\n",
        "\n"
      ],
      "metadata": {
        "id": "QlDie_Zl_BCz"
      }
    },
    {
      "cell_type": "code",
      "source": [],
      "metadata": {
        "id": "7T9Jnn01A63o"
      },
      "execution_count": null,
      "outputs": []
    },
    {
      "cell_type": "code",
      "source": [
        "%%time\n",
        "EPOCHS = 20\n",
        "from random import shuffle\n",
        "\n",
        "all_keys = list(tasks.keys())\n",
        "\n",
        "for i in range(EPOCHS):\n",
        "    print('Epoch',i,end=', ')\n",
        "    shuffle(all_keys) # shuffle in place operation\n",
        "    y_mtl=[]\n",
        "    yhat_mtl=[]\n",
        "    for x in all_keys:\n",
        "        # train the personalized layers ONLY\n",
        "        # no need to worry about fitting too much to one school\n",
        "        # because shared layers are not updated\n",
        "        models_mtl[x].fit(X_train,y_train,\n",
        "                          verbose=0,\n",
        "                          epochs=1,\n",
        "                          shuffle=True)\n",
        "        # test on some data\n",
        "        yhat_mlp = models_mtl[x].predict(X_test)\n",
        "        y_mtl.append(y_test.ravel())\n",
        "        yhat_mtl.append(yhat_mlp.ravel())\n",
        "\n",
        "    mse = mean_squared_error(np.concatenate(y_mtl), np.concatenate(yhat_mtl))\n",
        "    print('...MSE Validation:',mse)"
      ],
      "metadata": {
        "colab": {
          "base_uri": "https://localhost:8080/"
        },
        "id": "-hjrO-lidyEx",
        "outputId": "e4e5f4e8-4262-42f1-c529-225ce2f32ec9"
      },
      "execution_count": null,
      "outputs": [
        {
          "output_type": "stream",
          "name": "stdout",
          "text": [
            "Epoch 0, ...MSE Validation: 0.26360728511614984\n",
            "Epoch 1, ...MSE Validation: 0.2644194205858836\n",
            "Epoch 2, ...MSE Validation: 0.2652063685021589\n",
            "Epoch 3, ...MSE Validation: 0.26598107018785266\n",
            "Epoch 4, ...MSE Validation: 0.266756203395143\n",
            "Epoch 5, ...MSE Validation: 0.2675398030561537\n",
            "Epoch 6, ...MSE Validation: 0.2683132936506782\n",
            "Epoch 7, ...MSE Validation: 0.26908546665714295\n",
            "Epoch 8, ...MSE Validation: 0.269845111305073\n",
            "Epoch 9, ...MSE Validation: 0.27060178247656924\n",
            "Epoch 10, ...MSE Validation: 0.2713381209063395\n",
            "Epoch 11, ...MSE Validation: 0.27205315712923916\n",
            "Epoch 12, ...MSE Validation: 0.2727533815968115\n",
            "Epoch 13, ...MSE Validation: 0.2734423877270106\n",
            "Epoch 14, ...MSE Validation: 0.2741181096217427\n",
            "Epoch 15, ...MSE Validation: 0.2747702949326748\n",
            "Epoch 16, ...MSE Validation: 0.27541237074931824\n",
            "Epoch 17, ...MSE Validation: 0.27603235838817064\n",
            "Epoch 18, ...MSE Validation: 0.2766381466837916\n",
            "Epoch 19, ...MSE Validation: 0.2772227979469039\n",
            "CPU times: user 56min 25s, sys: 3min 2s, total: 59min 28s\n",
            "Wall time: 57min 45s\n"
          ]
        }
      ]
    },
    {
      "cell_type": "code",
      "source": [
        "from tensorflow.keras.layers import Input, Dense\n",
        "from tensorflow.keras.models import Model\n",
        "\n",
        "#get weights of generalized model\n",
        "w1 = generalized_mlp.get_layer('input_dense32').get_weights()\n",
        "w2 = generalized_mlp.get_layer('mid_dense16').get_weights()\n",
        "w_output = generalized_mlp.get_layer('output_layer').get_weights()\n",
        "\n",
        "# set these weights\n",
        "inputs = Input(shape=(X_train.shape[1],))\n",
        "shared_input = Dense(32, activation='relu', name = 'shared_input', trainable=False)(inputs)\n",
        "shared_mlp = Dense(16, activation='relu', name = 'shared_middle', trainable=False)(shared_input)\n",
        "\n",
        "# make a dictionary of models for each task\n",
        "models_mtl = dict()\n",
        "\n",
        "for x in tasks.keys():\n",
        "    # use same architecture as the general model, but\n",
        "    #. repeat the output layer such that\n",
        "    output_layer = Dense(1, activation='linear')(shared_mlp)\n",
        "    model = Model(inputs=inputs, outputs=output_layer)\n",
        "    model.compile(optimizer='rmsprop', loss='mean_squared_error')\n",
        "    models_mtl[x] = model\n",
        "\n",
        "    shared1 = models_mtl[x].get_layer('shared_input')\n",
        "    shared2 = models_mtl[x].get_layer('shared_middle')\n",
        "    personal = models_mtl[x].layers[-1]\n",
        "    # set to be the weights from the general model, as starting point\n",
        "    shared1.set_weights(w1)\n",
        "    shared2.set_weights(w2)\n",
        "    personal.set_weights(w_output)\n",
        "    shared1.trainable = False\n",
        "    shared2.trainable = False\n",
        "    personal.trainable = True"
      ],
      "metadata": {
        "id": "aStU5KuKdapE"
      },
      "execution_count": null,
      "outputs": []
    },
    {
      "cell_type": "code",
      "source": [
        "from sklearn.metrics import mean_squared_error"
      ],
      "metadata": {
        "id": "jZ0lqbQmguSb"
      },
      "execution_count": null,
      "outputs": []
    },
    {
      "cell_type": "markdown",
      "source": [
        "# Multi-Task evaluation"
      ],
      "metadata": {
        "id": "BnWrr-ju_cT3"
      }
    },
    {
      "cell_type": "code",
      "source": [
        "y_true = np.concatenate(y_mtl)\n",
        "y_predicted = np.concatenate(yhat_mtl)\n",
        "#y_predicted.shape"
      ],
      "metadata": {
        "id": "P6dBWQyFd68P"
      },
      "execution_count": null,
      "outputs": []
    },
    {
      "cell_type": "code",
      "source": [
        "y_predicted_cor = []\n",
        "for i in range (len(y_true)):\n",
        "    if y_predicted[i] < 0.3:\n",
        "        i = 0\n",
        "    elif y_predicted[i] > 0.7:\n",
        "         i = 1\n",
        "    else:\n",
        "        i = 2\n",
        "    y_predicted_cor.append(i)\n",
        ""
      ],
      "metadata": {
        "id": "shs4a5Sxyoz4"
      },
      "execution_count": null,
      "outputs": []
    },
    {
      "cell_type": "code",
      "source": [
        "len(y_predicted_cor)"
      ],
      "metadata": {
        "colab": {
          "base_uri": "https://localhost:8080/"
        },
        "id": "mdZUm3DYysGf",
        "outputId": "a5bc2947-b6c6-4b03-a0fb-29824a8aa437"
      },
      "execution_count": null,
      "outputs": [
        {
          "output_type": "execute_result",
          "data": {
            "text/plain": [
              "400000"
            ]
          },
          "metadata": {},
          "execution_count": 47
        }
      ]
    },
    {
      "cell_type": "code",
      "source": [
        "zero = []\n",
        "one = []\n",
        "two = []\n",
        "\n",
        "for i in range (len(y_true)):\n",
        "    if y_predicted_cor[i] == 0:\n",
        "        zero.append(i)\n",
        "    elif y_predicted_cor[i] == 1:\n",
        "        one.append(i)\n",
        "    else:\n",
        "        two.append(i)\n",
        "print('number of NH-O type HBs  from 400000 ligands = ', len(zero))\n",
        "print('number of non NH-O type HBs  from 400000 ligands = ', len(one))\n",
        "print('number of ligands cannot evaluate (between 0.7 - 0.3) = ', len(two))\n"
      ],
      "metadata": {
        "colab": {
          "base_uri": "https://localhost:8080/"
        },
        "id": "86M_vgtnyxP_",
        "outputId": "32073172-aed1-46a7-bfb2-8c626eb88e7b"
      },
      "execution_count": null,
      "outputs": [
        {
          "output_type": "stream",
          "name": "stdout",
          "text": [
            "number of NH-O type HBs  from 400000 ligands =  42875\n",
            "number of non NH-O type HBs  from 400000 ligands =  184812\n",
            "number of ligands cannot evaluate (between 0.7 - 0.3) =  172313\n"
          ]
        }
      ]
    },
    {
      "cell_type": "code",
      "source": [
        "y_predicted_cor1 = []\n",
        "for i in range (len(y_true)):\n",
        "    if y_predicted[i] < 0.5:\n",
        "        i = 0\n",
        "    else:\n",
        "        i = 1\n",
        "    y_predicted_cor1.append(i)"
      ],
      "metadata": {
        "id": "6_-GxCOmy-GN"
      },
      "execution_count": null,
      "outputs": []
    },
    {
      "cell_type": "code",
      "source": [
        "active = []\n",
        "inactive = []\n",
        "\n",
        "for i in range (len(y_true)):\n",
        "    if y_predicted_cor1[i] == 0:\n",
        "        inactive.append(i)\n",
        "    else:\n",
        "        active.append(i)\n",
        "print('number of non NH-O type HBs  from 400000 ligands = ', len(inactive))\n",
        "print('number of  NH-O type HBs  from 400000 ligands = ', len(active))\n",
        "\n"
      ],
      "metadata": {
        "colab": {
          "base_uri": "https://localhost:8080/"
        },
        "id": "xunUnftT1DWB",
        "outputId": "30a2a0b7-d45c-48eb-f3f6-6c34da7d2808"
      },
      "execution_count": null,
      "outputs": [
        {
          "output_type": "stream",
          "name": "stdout",
          "text": [
            "number of non NH-O type HBs  from 400000 ligands =  111529\n",
            "number of  NH-O type HBs  from 400000 ligands =  288471\n"
          ]
        }
      ]
    },
    {
      "cell_type": "code",
      "source": [
        "numActives = 275569\n",
        "numDecoys = 124431\n",
        "numMol = numActives + numDecoys\n",
        "act = [[1] for _ in range(0, numActives)]\n",
        "dcy = [[0] for _ in range(0, numDecoys)]\n",
        "scoreBestCase = act + dcy\n",
        "scoreWorstCase = dcy + act\n",
        "scoreAllActives = [[1] for _ in range(0, numMol)]\n",
        "scoreAllDecoys = [[0] for _ in range(0, numMol)]\n",
        "index = 0  # where the active/inactive information lies\n",
        "# test the 6.75% fraction\n",
        "fractions = [float((numActives)/10) / numMol]\n",
        "#fracSmall = [fractions[0] / 4000]\n",
        "# exponential weight\n",
        "alpha = 200.0"
      ],
      "metadata": {
        "id": "sbEOj4L21JTA"
      },
      "execution_count": null,
      "outputs": []
    },
    {
      "cell_type": "code",
      "source": [
        "import rdkit.ML.Scoring.Scoring as calc"
      ],
      "metadata": {
        "id": "ERUYTG8A2uMo"
      },
      "execution_count": null,
      "outputs": []
    },
    {
      "cell_type": "code",
      "source": [
        "print('The best AUC value of the model = ',calc.CalcAUC(scoreBestCase, index))\n",
        "print('The worst AUC value of the model = ',calc.CalcAUC(scoreWorstCase, index))\n",
        "print('The AUC value when all are active = ',calc.CalcAUC(scoreAllActives, index))\n",
        "print('The AUC value when all are inactive = ',calc.CalcAUC(scoreAllDecoys, index))"
      ],
      "metadata": {
        "colab": {
          "base_uri": "https://localhost:8080/"
        },
        "id": "8_pz8ZGv1NzY",
        "outputId": "9c2a5569-ff41-48c6-bbbb-6bd9cfa0f774"
      },
      "execution_count": null,
      "outputs": [
        {
          "output_type": "stream",
          "name": "stdout",
          "text": [
            "The best AUC value of the model =  1.0\n",
            "The worst AUC value of the model =  0.0\n",
            "The AUC value when all are active =  0.0\n",
            "The AUC value when all are inactive =  0.0\n"
          ]
        }
      ]
    },
    {
      "cell_type": "code",
      "source": [
        "print('The best enrich factor 6.75% value of the model = ',calc.CalcEnrichment(scoreBestCase, index, fractions))\n",
        "print('The worst enrich factor 6.75% value of the model = ',calc.CalcEnrichment(scoreWorstCase, index, fractions))\n",
        "print('The enrich factor value 6.75% when all are active = ',calc.CalcEnrichment(scoreAllActives, index, fractions))\n",
        "print('The enrich factor value 6.75% when all are inactive = ',calc.CalcEnrichment(scoreAllDecoys, index, fractions))"
      ],
      "metadata": {
        "colab": {
          "base_uri": "https://localhost:8080/"
        },
        "id": "oCha1hAN1UIo",
        "outputId": "f28610c4-dedd-4eb4-c6c4-cfbde251fae9"
      },
      "execution_count": null,
      "outputs": [
        {
          "output_type": "stream",
          "name": "stdout",
          "text": [
            "The best enrich factor 6.75% value of the model =  [1.4515420820193854]\n",
            "The worst enrich factor 6.75% value of the model =  [0.0]\n",
            "The enrich factor value 6.75% when all are active =  [1.0]\n",
            "The enrich factor value 6.75% when all are inactive =  [0.0]\n"
          ]
        }
      ]
    },
    {
      "cell_type": "code",
      "source": [
        "print('The best Bed roc 200 value of the model = ',calc.CalcBEDROC(scoreBestCase, index, alpha))\n",
        "print('The worst Bed roc 200 value of the model = ',calc.CalcBEDROC(scoreWorstCase, index, alpha))\n",
        "print('The Bed roc value 200 when all are active = ',calc.CalcBEDROC(scoreAllActives, index, alpha))\n",
        "print('The Bed roc value 200 when all are inactive = ',calc.CalcBEDROC(scoreAllDecoys, index, alpha))"
      ],
      "metadata": {
        "colab": {
          "base_uri": "https://localhost:8080/"
        },
        "id": "kPiIyaA83Ibz",
        "outputId": "3ee23028-3fa5-423d-9c1d-002c4fdb2921"
      },
      "execution_count": null,
      "outputs": [
        {
          "output_type": "stream",
          "name": "stdout",
          "text": [
            "The best Bed roc 200 value of the model =  0.9999999999997393\n",
            "The worst Bed roc 200 value of the model =  -3.0015010486918766e-40\n",
            "The Bed roc value 200 when all are active =  1.0\n",
            "The Bed roc value 200 when all are inactive =  0.0\n"
          ]
        }
      ]
    },
    {
      "cell_type": "code",
      "source": [
        "bland_altman_plot(np.concatenate(y_mtl),\n",
        "                  np.concatenate(yhat_mtl) )"
      ],
      "metadata": {
        "colab": {
          "base_uri": "https://localhost:8080/",
          "height": 621
        },
        "id": "6XBJtdJvPVPa",
        "outputId": "78529760-5a52-4fe4-f379-c77ec672966a"
      },
      "execution_count": null,
      "outputs": [
        {
          "output_type": "display_data",
          "data": {
            "text/plain": [
              "<Figure size 1080x720 with 1 Axes>"
            ],
            "image/png": "[encoded data removed]"
          },
          "metadata": {
            "needs_background": "light"
          }
        }
      ]
    },
    {
      "cell_type": "markdown",
      "source": [
        "\n",
        "\n",
        "# Fine tune with sigmoid and dropouts - general model\n",
        "\n"
      ],
      "metadata": {
        "id": "QSjgQ9GeaRxv"
      }
    },
    {
      "cell_type": "code",
      "source": [
        "generalized_mlp = Sequential()\n",
        "generalized_mlp.add(Dense(input_dim=X_train.shape[1], units=32, activation='relu', name='input_dense32'))\n",
        "generalized_mlp.add(Dropout(0.2))\n",
        "generalized_mlp.add(Dense(units=16, activation='relu', name='mid_dense16'))\n",
        "generalized_mlp.add(Dropout(0.2))\n",
        "generalized_mlp.add(Dense(1, activation='sigmoid', name='output_layer'))\n",
        "\n",
        "generalized_mlp.compile(loss='mean_squared_error',\n",
        "            optimizer='rmsprop',\n",
        "            metrics=[])\n",
        "\n",
        "generalized_mlp.fit(X_train, y_train, epochs=20,\n",
        "                    shuffle=True, verbose=1, validation_data=(X_test,y_test))\n",
        "y_hat_general = generalized_mlp.predict(X_test)"
      ],
      "metadata": {
        "colab": {
          "base_uri": "https://localhost:8080/"
        },
        "id": "gJ2BCVCIWf2t",
        "outputId": "0c75c0b3-08e4-4a92-f8d1-35bf32dc8826"
      },
      "execution_count": null,
      "outputs": [
        {
          "output_type": "stream",
          "name": "stdout",
          "text": [
            "Epoch 1/20\n",
            "19/19 [==============================] - 1s 9ms/step - loss: 0.2366 - val_loss: 0.2146\n",
            "Epoch 2/20\n",
            "19/19 [==============================] - 0s 4ms/step - loss: 0.2258 - val_loss: 0.2132\n",
            "Epoch 3/20\n",
            "19/19 [==============================] - 0s 4ms/step - loss: 0.2253 - val_loss: 0.2142\n",
            "Epoch 4/20\n",
            "19/19 [==============================] - 0s 4ms/step - loss: 0.2182 - val_loss: 0.2133\n",
            "Epoch 5/20\n",
            "19/19 [==============================] - 0s 4ms/step - loss: 0.2209 - val_loss: 0.2127\n",
            "Epoch 6/20\n",
            "19/19 [==============================] - 0s 4ms/step - loss: 0.2126 - val_loss: 0.2132\n",
            "Epoch 7/20\n",
            "19/19 [==============================] - 0s 5ms/step - loss: 0.2099 - val_loss: 0.2137\n",
            "Epoch 8/20\n",
            "19/19 [==============================] - 0s 5ms/step - loss: 0.2160 - val_loss: 0.2133\n",
            "Epoch 9/20\n",
            "19/19 [==============================] - 0s 4ms/step - loss: 0.2123 - val_loss: 0.2145\n",
            "Epoch 10/20\n",
            "19/19 [==============================] - 0s 5ms/step - loss: 0.2100 - val_loss: 0.2147\n",
            "Epoch 11/20\n",
            "19/19 [==============================] - 0s 5ms/step - loss: 0.2085 - val_loss: 0.2176\n",
            "Epoch 12/20\n",
            "19/19 [==============================] - 0s 4ms/step - loss: 0.2020 - val_loss: 0.2141\n",
            "Epoch 13/20\n",
            "19/19 [==============================] - 0s 4ms/step - loss: 0.2012 - val_loss: 0.2159\n",
            "Epoch 14/20\n",
            "19/19 [==============================] - 0s 7ms/step - loss: 0.2025 - val_loss: 0.2171\n",
            "Epoch 15/20\n",
            "19/19 [==============================] - 0s 9ms/step - loss: 0.1998 - val_loss: 0.2185\n",
            "Epoch 16/20\n",
            "19/19 [==============================] - 0s 13ms/step - loss: 0.1961 - val_loss: 0.2181\n",
            "Epoch 17/20\n",
            "19/19 [==============================] - 0s 8ms/step - loss: 0.1946 - val_loss: 0.2191\n",
            "Epoch 18/20\n",
            "19/19 [==============================] - 0s 9ms/step - loss: 0.1918 - val_loss: 0.2190\n",
            "Epoch 19/20\n",
            "19/19 [==============================] - 0s 8ms/step - loss: 0.1917 - val_loss: 0.2194\n",
            "Epoch 20/20\n",
            "19/19 [==============================] - 0s 4ms/step - loss: 0.1874 - val_loss: 0.2220\n"
          ]
        }
      ]
    },
    {
      "cell_type": "code",
      "source": [
        "y_predicted = y_hat_general\n",
        "y_true = y_test"
      ],
      "metadata": {
        "id": "t1pltj85XnK5"
      },
      "execution_count": null,
      "outputs": []
    },
    {
      "cell_type": "code",
      "source": [
        "y_predicted_cor1 = []\n",
        "for i in range (len(y_true)):\n",
        "    if y_predicted[i] < 0.5:\n",
        "        i = 0\n",
        "    else:\n",
        "        i = 1\n",
        "    y_predicted_cor1.append(i)"
      ],
      "metadata": {
        "id": "RimASdOJYiVh"
      },
      "execution_count": null,
      "outputs": []
    },
    {
      "cell_type": "code",
      "source": [
        "active = []\n",
        "inactive = []\n",
        "\n",
        "for i in range (len(y_true)):\n",
        "    if y_predicted_cor1[i] == 0:\n",
        "        inactive.append(i)\n",
        "    else:\n",
        "        active.append(i)\n",
        "print('number of non NH-O type HBs  from 400000 ligands = ', len(inactive))\n",
        "print('number of  NH-O type HBs  from 400000 ligands = ', len(active))"
      ],
      "metadata": {
        "colab": {
          "base_uri": "https://localhost:8080/"
        },
        "id": "LcxhhNvCX82N",
        "outputId": "e90e00a1-5ea3-40e4-859e-41b4cbf7c6a6"
      },
      "execution_count": null,
      "outputs": [
        {
          "output_type": "stream",
          "name": "stdout",
          "text": [
            "number of non NH-O type HBs  from 400000 ligands =  25\n",
            "number of  NH-O type HBs  from 400000 ligands =  375\n"
          ]
        }
      ]
    },
    {
      "cell_type": "code",
      "source": [
        "numActives = 375\n",
        "numDecoys = 25\n",
        "numMol = numActives + numDecoys\n",
        "act = [[1] for _ in range(0, numActives)]\n",
        "dcy = [[0] for _ in range(0, numDecoys)]\n",
        "scoreBestCase = act + dcy\n",
        "scoreWorstCase = dcy + act\n",
        "scoreAllActives = [[1] for _ in range(0, numMol)]\n",
        "scoreAllDecoys = [[0] for _ in range(0, numMol)]\n",
        "index = 0  # where the active/inactive information lies\n",
        "# test the 6.75% fraction\n",
        "fractions = [float((numActives)/10) / numMol]\n",
        "#fracSmall = [fractions[0] / 4000]\n",
        "# exponential weight\n",
        "alpha = 80.0"
      ],
      "metadata": {
        "id": "MUcfzE54ZfXP"
      },
      "execution_count": null,
      "outputs": []
    },
    {
      "cell_type": "code",
      "source": [
        "print('The best AUC value of the model = ',calc.CalcAUC(scoreBestCase, index))\n",
        "print('The worst AUC value of the model = ',calc.CalcAUC(scoreWorstCase, index))\n",
        "print('The AUC value when all are active = ',calc.CalcAUC(scoreAllActives, index))\n",
        "print('The AUC value when all are inactive = ',calc.CalcAUC(scoreAllDecoys, index))"
      ],
      "metadata": {
        "colab": {
          "base_uri": "https://localhost:8080/"
        },
        "id": "QCnShciOZw89",
        "outputId": "f1d7b832-4496-4515-9c88-4190d5312bad"
      },
      "execution_count": null,
      "outputs": [
        {
          "output_type": "stream",
          "name": "stdout",
          "text": [
            "The best AUC value of the model =  1.0\n",
            "The worst AUC value of the model =  0.0\n",
            "The AUC value when all are active =  0.0\n",
            "The AUC value when all are inactive =  0.0\n"
          ]
        }
      ]
    },
    {
      "cell_type": "code",
      "source": [
        "print('The best enrich factor 6.75% value of the model = ',calc.CalcEnrichment(scoreBestCase, index, fractions))\n",
        "print('The worst enrich factor 6.75% value of the model = ',calc.CalcEnrichment(scoreWorstCase, index, fractions))\n",
        "print('The enrich factor value 6.75% when all are active = ',calc.CalcEnrichment(scoreAllActives, index, fractions))\n",
        "print('The enrich factor value 6.75% when all are inactive = ',calc.CalcEnrichment(scoreAllDecoys, index, fractions))"
      ],
      "metadata": {
        "colab": {
          "base_uri": "https://localhost:8080/"
        },
        "id": "irdLgFGSZ3wT",
        "outputId": "1648b5ea-e547-45c4-c633-56c5a7ad560d"
      },
      "execution_count": null,
      "outputs": [
        {
          "output_type": "stream",
          "name": "stdout",
          "text": [
            "The best enrich factor 6.75% value of the model =  [1.0666666666666667]\n",
            "The worst enrich factor 6.75% value of the model =  [0.36491228070175435]\n",
            "The enrich factor value 6.75% when all are active =  [1.0]\n",
            "The enrich factor value 6.75% when all are inactive =  [0.0]\n"
          ]
        }
      ]
    },
    {
      "cell_type": "code",
      "source": [
        "print('The best Bed roc 200 value of the model = ',calc.CalcBEDROC(scoreBestCase, index, alpha))\n",
        "print('The worst Bed roc 200 value of the model = ',calc.CalcBEDROC(scoreWorstCase, index, alpha))\n",
        "print('The Bed roc value 200 when all are active = ',calc.CalcBEDROC(scoreAllActives, index, alpha))\n",
        "print('The Bed roc value 200 when all are inactive = ',calc.CalcBEDROC(scoreAllDecoys, index, alpha))"
      ],
      "metadata": {
        "colab": {
          "base_uri": "https://localhost:8080/"
        },
        "id": "NjEo0vyfZ35y",
        "outputId": "7dcbe582-d7a6-4ff7-ddb3-4a3d11a8ab45"
      },
      "execution_count": null,
      "outputs": [
        {
          "output_type": "stream",
          "name": "stdout",
          "text": [
            "The best Bed roc 200 value of the model =  0.9999999999999998\n",
            "The worst Bed roc 200 value of the model =  -4.9120066164254015e-18\n",
            "The Bed roc value 200 when all are active =  1.0\n",
            "The Bed roc value 200 when all are inactive =  0.0\n"
          ]
        }
      ]
    },
    {
      "cell_type": "code",
      "source": [],
      "metadata": {
        "id": "NyYTTDYZZ3-K"
      },
      "execution_count": null,
      "outputs": []
    },
    {
      "cell_type": "code",
      "source": [],
      "metadata": {
        "id": "PrtrBMxjZ4CS"
      },
      "execution_count": null,
      "outputs": []
    },
    {
      "cell_type": "code",
      "source": [],
      "metadata": {
        "id": "EFeLImH4Z4Fi"
      },
      "execution_count": null,
      "outputs": []
    },
    {
      "cell_type": "code",
      "source": [],
      "metadata": {
        "id": "ppfPBhOiZ4Iq"
      },
      "execution_count": null,
      "outputs": []
    },
    {
      "cell_type": "markdown",
      "source": [
        "# Fine tune with sigmoid and dropouts - multi task model"
      ],
      "metadata": {
        "id": "skEsyhJ7anU8"
      }
    },
    {
      "cell_type": "code",
      "source": [
        "from tensorflow.keras.layers import Input, Dense\n",
        "from tensorflow.keras.models import Model\n",
        "\n",
        "#get weights of generalized model\n",
        "w1 = generalized_mlp.get_layer('input_dense32').get_weights()\n",
        "w2 = generalized_mlp.get_layer('mid_dense16').get_weights()\n",
        "w_output = generalized_mlp.get_layer('output_layer').get_weights()\n",
        "\n",
        "# set these weights\n",
        "inputs = Input(shape=(X_train.shape[1],))\n",
        "shared_input = Dense(32, activation='relu', name = 'shared_input', trainable=False)(inputs)\n",
        "shared_mlp = Dense(16, activation='relu', name = 'shared_middle', trainable=False)(shared_input)\n",
        "\n",
        "# make a dictionary of models for each task\n",
        "models_mtl = dict()\n",
        "\n",
        "for x in tasks.keys():\n",
        "    # use same architecture as the general model, but\n",
        "    #. repeat the output layer such that\n",
        "    output_layer = Dense(1, activation='sigmoid')(shared_mlp)\n",
        "    model = Model(inputs=inputs, outputs=output_layer)\n",
        "    model.compile(optimizer='rmsprop', loss='mean_squared_error')\n",
        "    models_mtl[x] = model\n",
        "\n",
        "    shared1 = models_mtl[x].get_layer('shared_input')\n",
        "    shared2 = models_mtl[x].get_layer('shared_middle')\n",
        "    personal = models_mtl[x].layers[-1]\n",
        "    # set to be the weights from the general model, as starting point\n",
        "    shared1.set_weights(w1)\n",
        "    shared2.set_weights(w2)\n",
        "    personal.set_weights(w_output)\n",
        "    shared1.trainable = False\n",
        "    shared2.trainable = False\n",
        "    personal.trainable = True"
      ],
      "metadata": {
        "id": "asBveQpyPpnc"
      },
      "execution_count": null,
      "outputs": []
    },
    {
      "cell_type": "code",
      "source": [
        "%%time\n",
        "EPOCHS = 20\n",
        "from random import shuffle\n",
        "\n",
        "all_keys = list(tasks.keys())\n",
        "\n",
        "for i in range(EPOCHS):\n",
        "    print('Epoch',i,end=', ')\n",
        "    shuffle(all_keys) # shuffle in place operation\n",
        "    y_mtl=[]\n",
        "    yhat_mtl=[]\n",
        "    for x in all_keys:\n",
        "        # train the personalized layers ONLY\n",
        "        # no need to worry about fitting too much to one school\n",
        "        # because shared layers are not updated\n",
        "        models_mtl[x].fit(X_train,y_train,\n",
        "                          verbose=0,\n",
        "                          epochs=1,\n",
        "                          shuffle=True)\n",
        "        # test on some data\n",
        "        yhat_mlp = models_mtl[x].predict(X_test)\n",
        "        y_mtl.append(y_test.ravel())\n",
        "        yhat_mtl.append(yhat_mlp.ravel())\n",
        "\n",
        "    mse = mean_squared_error(np.concatenate(y_mtl), np.concatenate(yhat_mtl))\n",
        "    print('...MSE Validation:',mse)"
      ],
      "metadata": {
        "colab": {
          "base_uri": "https://localhost:8080/"
        },
        "id": "8yRWPFUKaNCh",
        "outputId": "05a91ad2-eed0-4a08-c1bd-318d4856a59d"
      },
      "execution_count": null,
      "outputs": [
        {
          "output_type": "stream",
          "name": "stdout",
          "text": [
            "Epoch 0, ...MSE Validation: 0.22227783692160216\n",
            "Epoch 1, ...MSE Validation: 0.22255578280401286\n",
            "Epoch 2, ...MSE Validation: 0.22286258633396644\n",
            "Epoch 3, ...MSE Validation: 0.2231953438918911\n",
            "Epoch 4, ...MSE Validation: 0.223550013700775\n",
            "Epoch 5, ...MSE Validation: 0.22391890349736182\n",
            "Epoch 6, ...MSE Validation: 0.22429867745015247\n",
            "Epoch 7, ...MSE Validation: 0.22468685345507022\n",
            "Epoch 8, ...MSE Validation: 0.2250802560217785\n",
            "Epoch 9, ...MSE Validation: 0.2254816020895223\n",
            "Epoch 10, ...MSE Validation: 0.2258841089149858\n",
            "Epoch 11, ...MSE Validation: 0.226290117894464\n",
            "Epoch 12, ...MSE Validation: 0.22669722410672424\n",
            "Epoch 13, ...MSE Validation: 0.2271026824775738\n",
            "Epoch 14, ...MSE Validation: 0.22751048463262913\n",
            "Epoch 15, ...MSE Validation: 0.22791580072941645\n",
            "Epoch 16, ...MSE Validation: 0.228319535422052\n",
            "Epoch 17, ...MSE Validation: 0.22872311124460523\n",
            "Epoch 18, ...MSE Validation: 0.22912390668930252\n",
            "Epoch 19, ...MSE Validation: 0.2295240981308299\n",
            "CPU times: user 56min, sys: 3min 3s, total: 59min 3s\n",
            "Wall time: 58min 1s\n"
          ]
        }
      ]
    },
    {
      "cell_type": "code",
      "source": [
        "y_true = np.concatenate(y_mtl)\n",
        "y_predicted = np.concatenate(yhat_mtl)\n",
        "#y_predicted.shape"
      ],
      "metadata": {
        "id": "EvGi4P3Tr_2E"
      },
      "execution_count": null,
      "outputs": []
    },
    {
      "cell_type": "code",
      "source": [
        "y_predicted_cor1 = []\n",
        "for i in range (len(y_true)):\n",
        "    if y_predicted[i] < 0.5:\n",
        "        i = 0\n",
        "    else:\n",
        "        i = 1\n",
        "    y_predicted_cor1.append(i)"
      ],
      "metadata": {
        "id": "nOZWrJ-BsAYj"
      },
      "execution_count": null,
      "outputs": []
    },
    {
      "cell_type": "code",
      "source": [
        "active = []\n",
        "inactive = []\n",
        "\n",
        "for i in range (len(y_true)):\n",
        "    if y_predicted_cor1[i] == 0:\n",
        "        inactive.append(i)\n",
        "    else:\n",
        "        active.append(i)\n",
        "print('number of non NH-O type HBs  from 400000 ligands = ', len(inactive))\n",
        "print('number of  NH-O type HBs  from 400000 ligands = ', len(active))\n",
        "\n"
      ],
      "metadata": {
        "colab": {
          "base_uri": "https://localhost:8080/"
        },
        "id": "2AKwsd02sHVB",
        "outputId": "78078ca1-e8f8-43c7-e438-c800015936e6"
      },
      "execution_count": null,
      "outputs": [
        {
          "output_type": "stream",
          "name": "stdout",
          "text": [
            "number of non NH-O type HBs  from 400000 ligands =  47548\n",
            "number of  NH-O type HBs  from 400000 ligands =  352452\n"
          ]
        }
      ]
    },
    {
      "cell_type": "code",
      "source": [
        "numActives = 352452\n",
        "numDecoys = 47548\n",
        "numMol = numActives + numDecoys\n",
        "act = [[1] for _ in range(0, numActives)]\n",
        "dcy = [[0] for _ in range(0, numDecoys)]\n",
        "scoreBestCase = act + dcy\n",
        "scoreWorstCase = dcy + act\n",
        "scoreAllActives = [[1] for _ in range(0, numMol)]\n",
        "scoreAllDecoys = [[0] for _ in range(0, numMol)]\n",
        "index = 0  # where the active/inactive information lies\n",
        "# test the 6.75% fraction\n",
        "fractions = [float((numActives)/10) / numMol]\n",
        "#fracSmall = [fractions[0] / 4000]\n",
        "# exponential weight\n",
        "alpha = 200.0"
      ],
      "metadata": {
        "id": "IvOcdtcisNuo"
      },
      "execution_count": null,
      "outputs": []
    },
    {
      "cell_type": "code",
      "source": [
        "print('The best AUC value of the model = ',calc.CalcAUC(scoreBestCase, index))\n",
        "print('The worst AUC value of the model = ',calc.CalcAUC(scoreWorstCase, index))\n",
        "print('The AUC value when all are active = ',calc.CalcAUC(scoreAllActives, index))\n",
        "print('The AUC value when all are inactive = ',calc.CalcAUC(scoreAllDecoys, index))"
      ],
      "metadata": {
        "colab": {
          "base_uri": "https://localhost:8080/"
        },
        "id": "gQ5g2f1QsRrf",
        "outputId": "8aefc49b-4790-467b-8b25-926415439b13"
      },
      "execution_count": null,
      "outputs": [
        {
          "output_type": "stream",
          "name": "stdout",
          "text": [
            "The best AUC value of the model =  1.0\n",
            "The worst AUC value of the model =  0.0\n",
            "The AUC value when all are active =  0.0\n",
            "The AUC value when all are inactive =  0.0\n"
          ]
        }
      ]
    },
    {
      "cell_type": "code",
      "source": [
        "print('The best enrich factor 6.75% value of the model = ',calc.CalcEnrichment(scoreBestCase, index, fractions))\n",
        "print('The worst enrich factor 6.75% value of the model = ',calc.CalcEnrichment(scoreWorstCase, index, fractions))\n",
        "print('The enrich factor value 6.75% when all are active = ',calc.CalcEnrichment(scoreAllActives, index, fractions))\n",
        "print('The enrich factor value 6.75% when all are inactive = ',calc.CalcEnrichment(scoreAllDecoys, index, fractions))"
      ],
      "metadata": {
        "colab": {
          "base_uri": "https://localhost:8080/"
        },
        "id": "jK8H99Q9sdLG",
        "outputId": "00c3aa3f-f2f8-4369-96ed-7ff6baf1f1cb"
      },
      "execution_count": null,
      "outputs": [
        {
          "output_type": "stream",
          "name": "stdout",
          "text": [
            "The best enrich factor 6.75% value of the model =  [1.134906313483822]\n",
            "The worst enrich factor 6.75% value of the model =  [0.0]\n",
            "The enrich factor value 6.75% when all are active =  [1.0]\n",
            "The enrich factor value 6.75% when all are inactive =  [0.0]\n"
          ]
        }
      ]
    },
    {
      "cell_type": "code",
      "source": [
        "print('The best Bed roc 200 value of the model = ',calc.CalcBEDROC(scoreBestCase, index, alpha))\n",
        "print('The worst Bed roc 200 value of the model = ',calc.CalcBEDROC(scoreWorstCase, index, alpha))\n",
        "print('The Bed roc value 200 when all are active = ',calc.CalcBEDROC(scoreAllActives, index, alpha))\n",
        "print('The Bed roc value 200 when all are inactive = ',calc.CalcBEDROC(scoreAllDecoys, index, alpha))"
      ],
      "metadata": {
        "colab": {
          "base_uri": "https://localhost:8080/"
        },
        "id": "OmNTsAOGsim8",
        "outputId": "f32108c1-2ea5-4322-c572-ec0785a2927e"
      },
      "execution_count": null,
      "outputs": [
        {
          "output_type": "stream",
          "name": "stdout",
          "text": [
            "The best Bed roc 200 value of the model =  0.9999999999997392\n",
            "The worst Bed roc 200 value of the model =  -1.251008965642056e-23\n",
            "The Bed roc value 200 when all are active =  1.0\n",
            "The Bed roc value 200 when all are inactive =  0.0\n"
          ]
        }
      ]
    },
    {
      "cell_type": "code",
      "source": [
        "bland_altman_plot(np.concatenate(y_mtl),\n",
        "                  np.concatenate(yhat_mtl) )"
      ],
      "metadata": {
        "colab": {
          "base_uri": "https://localhost:8080/",
          "height": 621
        },
        "id": "we6PhYnzsywK",
        "outputId": "ae0fa375-eb87-44bd-a394-d79a404bfb8d"
      },
      "execution_count": null,
      "outputs": [
        {
          "output_type": "display_data",
          "data": {
            "text/plain": [
              "<Figure size 1080x720 with 1 Axes>"
            ],
            "image/png": "[encoded data removed]"
          },
          "metadata": {
            "needs_background": "light"
          }
        }
      ]
    },
    {
      "cell_type": "code",
      "source": [],
      "metadata": {
        "id": "oQeJXcPbs90B"
      },
      "execution_count": null,
      "outputs": []
    }
  ]
}